{
 "cells": [
  {
   "cell_type": "markdown",
   "metadata": {},
   "source": [
    "# Computer Vision Nanodegree\n",
    "\n",
    "## Project: Image Captioning\n",
    "\n",
    "---\n",
    "\n",
    "In this notebook, you will learn how to load and pre-process data from the [COCO dataset](http://cocodataset.org/#home). You will also design a CNN-RNN model for automatically generating image captions.\n",
    "\n",
    "Note that **any amendments that you make to this notebook will not be graded**.  However, you will use the instructions provided in **Step 3** and **Step 4** to implement your own CNN encoder and RNN decoder by making amendments to the **models.py** file provided as part of this project.  Your **models.py** file **will be graded**. \n",
    "\n",
    "Feel free to use the links below to navigate the notebook:\n",
    "- [Step 1](#step1): Explore the Data Loader\n",
    "- [Step 2](#step2): Use the Data Loader to Obtain Batches\n",
    "- [Step 3](#step3): Experiment with the CNN Encoder\n",
    "- [Step 4](#step4): Implement the RNN Decoder\n",
    "\n",
    "## Step 0: Update PATH and restart the Kernel"
   ]
  },
  {
   "cell_type": "code",
   "execution_count": 1,
   "metadata": {},
   "outputs": [],
   "source": [
    "# Update the path and restart the Kernel. \n",
    "import os\n",
    "os.environ['PATH'] = f\"{os.environ['PATH']}:/root/.local/bin\"\n",
    "os.environ['PATH'] = f\"{os.environ['PATH']}:/root/.torch/models\""
   ]
  },
  {
   "cell_type": "code",
   "execution_count": 1,
   "metadata": {},
   "outputs": [
    {
     "name": "stdout",
     "output_type": "stream",
     "text": [
      "2.0.1\n",
      "False\n"
     ]
    }
   ],
   "source": [
    "# Should return True\n",
    "import torch\n",
    "print(torch.__version__)\n",
    "print(torch.cuda.is_available())"
   ]
  },
  {
   "cell_type": "markdown",
   "metadata": {},
   "source": [
    "<a id='step1'></a>\n",
    "## Step 1: Explore the Data Loader\n",
    "\n",
    "We have already written a [data loader](http://pytorch.org/docs/master/data.html#torch.utils.data.DataLoader) that you can use to load the COCO dataset in batches. \n",
    "\n",
    "In the code cell below, you will initialize the data loader by using the `get_loader` function in **data_loader.py**.  \n",
    "\n",
    "> For this project, you are not permitted to change the **data_loader.py** file, which must be used as-is.\n",
    "\n",
    "The `get_loader` function takes as input a number of arguments that can be explored in **data_loader.py**.  Take the time to explore these arguments now by opening **data_loader.py** in a new window.  Most of the arguments must be left at their default values, and you are only allowed to amend the values of the arguments below:\n",
    "1. **`transform`** - an [image transform](http://pytorch.org/docs/master/torchvision/transforms.html) specifying how to pre-process the images and convert them to PyTorch tensors before using them as input to the CNN encoder.  For now, you are encouraged to keep the transform as provided in `transform_train`.  You will have the opportunity later to choose your own image transform to pre-process the COCO images.\n",
    "2. **`mode`** - one of `'train'` (loads the training data in batches) or `'test'` (for the test data). We will say that the data loader is in training or test mode, respectively.  While following the instructions in this notebook, please keep the data loader in training mode by setting `mode='train'`.\n",
    "3. **`batch_size`** - determines the batch size.  When training the model, this is number of image-caption pairs used to amend the model weights in each training step.\n",
    "4. **`vocab_threshold`** - the total number of times that a word must appear in the in the training captions before it is used as part of the vocabulary.  Words that have fewer than `vocab_threshold` occurrences in the training captions are considered unknown words. \n",
    "5. **`vocab_from_file`** - a Boolean that decides whether to load the vocabulary from file.  \n",
    "\n",
    "We will describe the `vocab_threshold` and `vocab_from_file` arguments in more detail soon.  For now, run the code cell below.  Be patient - it may take a couple of minutes to run!"
   ]
  },
  {
   "cell_type": "code",
   "execution_count": 2,
   "metadata": {
    "scrolled": false
   },
   "outputs": [
    {
     "name": "stdout",
     "output_type": "stream",
     "text": [
      "Defaulting to user installation because normal site-packages is not writeable\n",
      "Requirement already satisfied: nltk in /opt/conda/lib/python3.10/site-packages (3.8.1)\n",
      "Requirement already satisfied: regex>=2021.8.3 in /opt/conda/lib/python3.10/site-packages (from nltk) (2024.4.16)\n",
      "Requirement already satisfied: tqdm in /opt/conda/lib/python3.10/site-packages (from nltk) (4.65.0)\n",
      "Requirement already satisfied: joblib in /opt/conda/lib/python3.10/site-packages (from nltk) (1.4.0)\n",
      "Requirement already satisfied: click in /opt/conda/lib/python3.10/site-packages (from nltk) (8.1.7)\n"
     ]
    },
    {
     "name": "stderr",
     "output_type": "stream",
     "text": [
      "[nltk_data] Downloading package punkt to /home/student/nltk_data...\n",
      "[nltk_data]   Unzipping tokenizers/punkt.zip.\n"
     ]
    },
    {
     "name": "stdout",
     "output_type": "stream",
     "text": [
      "loading annotations into memory...\n",
      "Done (t=0.59s)\n",
      "creating index...\n",
      "index created!\n",
      "[0/414113] Tokenizing captions...\n",
      "[100000/414113] Tokenizing captions...\n",
      "[200000/414113] Tokenizing captions...\n",
      "[300000/414113] Tokenizing captions...\n",
      "[400000/414113] Tokenizing captions...\n",
      "loading annotations into memory...\n",
      "Done (t=0.55s)\n",
      "creating index...\n",
      "index created!\n",
      "Obtaining caption lengths for the subset...\n"
     ]
    },
    {
     "name": "stderr",
     "output_type": "stream",
     "text": [
      "100%|██████████| 414113/414113 [00:31<00:00, 13318.03it/s]\n"
     ]
    }
   ],
   "source": [
    "import sys\n",
    "sys.path.append('/mnt/disks/legacy-jupytergpu-data/cocoapi/PythonAPI')\n",
    "from pycocotools.coco import COCO\n",
    "!pip install nltk\n",
    "import nltk\n",
    "nltk.download('punkt')\n",
    "from data_loader import get_loader\n",
    "from torchvision import transforms\n",
    "\n",
    "# Define a transform to pre-process the training images.\n",
    "transform_train = transforms.Compose([ \n",
    "    transforms.Resize(256),                          # smaller edge of image resized to 256\n",
    "    transforms.RandomCrop(224),                      # get 224x224 crop from random location\n",
    "    transforms.RandomHorizontalFlip(),               # horizontally flip image with probability=0.5\n",
    "    transforms.ToTensor(),                           # convert the PIL Image to a tensor\n",
    "    transforms.Normalize((0.485, 0.456, 0.406),      # normalize image for pre-trained model\n",
    "                         (0.229, 0.224, 0.225))])\n",
    "\n",
    "# Set the minimum word count threshold.\n",
    "vocab_threshold = 5\n",
    "\n",
    "# Specify the batch size.\n",
    "batch_size = 10\n",
    "\n",
    "# Obtain the data loader.\n",
    "data_loader = get_loader(transform=transform_train,\n",
    "                         mode='train',\n",
    "                         batch_size=batch_size,\n",
    "                         vocab_threshold=vocab_threshold,\n",
    "                         vocab_from_file=False)"
   ]
  },
  {
   "cell_type": "markdown",
   "metadata": {},
   "source": [
    "When you ran the code cell above, the data loader was stored in the variable `data_loader`.  \n",
    "\n",
    "You can access the corresponding dataset as `data_loader.dataset`.  This dataset is an instance of the `CoCoDataset` class in **data_loader.py**.  If you are unfamiliar with data loaders and datasets, you are encouraged to review [this PyTorch tutorial](http://pytorch.org/tutorials/beginner/data_loading_tutorial.html).\n",
    "\n",
    "### Exploring the `__getitem__` Method\n",
    "\n",
    "The `__getitem__` method in the `CoCoDataset` class determines how an image-caption pair is pre-processed before being incorporated into a batch.  This is true for all `Dataset` classes in PyTorch; if this is unfamiliar to you, please review [the tutorial linked above](http://pytorch.org/tutorials/beginner/data_loading_tutorial.html). \n",
    "\n",
    "When the data loader is in training mode, this method begins by first obtaining the filename (`path`) of a training image and its corresponding caption (`caption`).\n",
    "\n",
    "#### Image Pre-Processing \n",
    "\n",
    "Image pre-processing is relatively straightforward (from the `__getitem__` method in the `CoCoDataset` class):\n",
    "```python\n",
    "# Convert image to tensor and pre-process using transform\n",
    "image = Image.open(os.path.join(self.img_folder, path)).convert('RGB')\n",
    "image = self.transform(image)\n",
    "```\n",
    "After loading the image in the training folder with name `path`, the image is pre-processed using the same transform (`transform_train`) that was supplied when instantiating the data loader.  \n",
    "\n",
    "#### Caption Pre-Processing \n",
    "\n",
    "The captions also need to be pre-processed and prepped for training. In this example, for generating captions, we are aiming to create a model that predicts the next token of a sentence from previous tokens, so we turn the caption associated with any image into a list of tokenized words, before casting it to a PyTorch tensor that we can use to train the network.\n",
    "\n",
    "To understand in more detail how COCO captions are pre-processed, we'll first need to take a look at the `vocab` instance variable of the `CoCoDataset` class.  The code snippet below is pulled from the `__init__` method of the `CoCoDataset` class:\n",
    "```python\n",
    "def __init__(self, transform, mode, batch_size, vocab_threshold, vocab_file, start_word, \n",
    "        end_word, unk_word, annotations_file, vocab_from_file, img_folder):\n",
    "        ...\n",
    "        self.vocab = Vocabulary(vocab_threshold, vocab_file, start_word,\n",
    "            end_word, unk_word, annotations_file, vocab_from_file)\n",
    "        ...\n",
    "```\n",
    "From the code snippet above, you can see that `data_loader.dataset.vocab` is an instance of the `Vocabulary` class from **vocabulary.py**.  Take the time now to verify this for yourself by looking at the full code in **data_loader.py**.  \n",
    "\n",
    "We use this instance to pre-process the COCO captions (from the `__getitem__` method in the `CoCoDataset` class):\n",
    "\n",
    "```python\n",
    "# Convert caption to tensor of word ids.\n",
    "tokens = nltk.tokenize.word_tokenize(str(caption).lower())   # line 1\n",
    "caption = []                                                 # line 2\n",
    "caption.append(self.vocab(self.vocab.start_word))            # line 3\n",
    "caption.extend([self.vocab(token) for token in tokens])      # line 4\n",
    "caption.append(self.vocab(self.vocab.end_word))              # line 5\n",
    "caption = torch.Tensor(caption).long()                       # line 6\n",
    "```\n",
    "\n",
    "As you will see soon, this code converts any string-valued caption to a list of integers, before casting it to a PyTorch tensor.  To see how this code works, we'll apply it to the sample caption in the next code cell."
   ]
  },
  {
   "cell_type": "code",
   "execution_count": 5,
   "metadata": {},
   "outputs": [],
   "source": [
    "sample_caption = 'A person doing a trick on a rail while riding a skateboard.'"
   ]
  },
  {
   "cell_type": "markdown",
   "metadata": {},
   "source": [
    "In **`line 1`** of the code snippet, every letter in the caption is converted to lowercase, and the [`nltk.tokenize.word_tokenize`](http://www.nltk.org/) function is used to obtain a list of string-valued tokens.  Run the next code cell to visualize the effect on `sample_caption`."
   ]
  },
  {
   "cell_type": "code",
   "execution_count": 6,
   "metadata": {},
   "outputs": [
    {
     "name": "stdout",
     "output_type": "stream",
     "text": [
      "['a', 'person', 'doing', 'a', 'trick', 'on', 'a', 'rail', 'while', 'riding', 'a', 'skateboard', '.']\n"
     ]
    }
   ],
   "source": [
    "import nltk\n",
    "\n",
    "sample_tokens = nltk.tokenize.word_tokenize(str(sample_caption).lower())\n",
    "print(sample_tokens)"
   ]
  },
  {
   "cell_type": "markdown",
   "metadata": {},
   "source": [
    "In **`line 2`** and **`line 3`** we initialize an empty list and append an integer to mark the start of a caption.  The [paper](https://arxiv.org/pdf/1411.4555.pdf) that you are encouraged to implement uses a special start word (and a special end word, which we'll examine below) to mark the beginning (and end) of a caption.\n",
    "\n",
    "This special start word (`\"<start>\"`) is decided when instantiating the data loader and is passed as a parameter (`start_word`).  You are **required** to keep this parameter at its default value (`start_word=\"<start>\"`).\n",
    "\n",
    "As you will see below, the integer `0` is always used to mark the start of a caption."
   ]
  },
  {
   "cell_type": "code",
   "execution_count": 7,
   "metadata": {},
   "outputs": [
    {
     "name": "stdout",
     "output_type": "stream",
     "text": [
      "Special start word: <start>\n",
      "[0]\n"
     ]
    }
   ],
   "source": [
    "sample_caption = []\n",
    "\n",
    "start_word = data_loader.dataset.vocab.start_word\n",
    "print('Special start word:', start_word)\n",
    "sample_caption.append(data_loader.dataset.vocab(start_word))\n",
    "print(sample_caption)"
   ]
  },
  {
   "cell_type": "markdown",
   "metadata": {},
   "source": [
    "In **`line 4`**, we continue the list by adding integers that correspond to each of the tokens in the caption."
   ]
  },
  {
   "cell_type": "code",
   "execution_count": 8,
   "metadata": {},
   "outputs": [
    {
     "name": "stdout",
     "output_type": "stream",
     "text": [
      "[0, 3, 98, 754, 3, 396, 39, 3, 1010, 207, 139, 3, 753, 18]\n"
     ]
    }
   ],
   "source": [
    "sample_caption.extend([data_loader.dataset.vocab(token) for token in sample_tokens])\n",
    "print(sample_caption)"
   ]
  },
  {
   "cell_type": "markdown",
   "metadata": {},
   "source": [
    "In **`line 5`**, we append a final integer to mark the end of the caption.  \n",
    "\n",
    "Identical to the case of the special start word (above), the special end word (`\"<end>\"`) is decided when instantiating the data loader and is passed as a parameter (`end_word`).  You are **required** to keep this parameter at its default value (`end_word=\"<end>\"`).\n",
    "\n",
    "As you will see below, the integer `1` is always used to  mark the end of a caption."
   ]
  },
  {
   "cell_type": "code",
   "execution_count": 9,
   "metadata": {},
   "outputs": [
    {
     "name": "stdout",
     "output_type": "stream",
     "text": [
      "Special end word: <end>\n",
      "[0, 3, 98, 754, 3, 396, 39, 3, 1010, 207, 139, 3, 753, 18, 1]\n"
     ]
    }
   ],
   "source": [
    "end_word = data_loader.dataset.vocab.end_word\n",
    "print('Special end word:', end_word)\n",
    "\n",
    "sample_caption.append(data_loader.dataset.vocab(end_word))\n",
    "print(sample_caption)"
   ]
  },
  {
   "cell_type": "markdown",
   "metadata": {},
   "source": [
    "Finally, in **`line 6`**, we convert the list of integers to a PyTorch tensor and cast it to [long type](http://pytorch.org/docs/master/tensors.html#torch.Tensor.long).  You can read more about the different types of PyTorch tensors on the [website](http://pytorch.org/docs/master/tensors.html)."
   ]
  },
  {
   "cell_type": "code",
   "execution_count": 10,
   "metadata": {},
   "outputs": [
    {
     "name": "stdout",
     "output_type": "stream",
     "text": [
      "tensor([   0,    3,   98,  754,    3,  396,   39,    3, 1010,  207,  139,    3,\n",
      "         753,   18,    1])\n"
     ]
    }
   ],
   "source": [
    "import torch\n",
    "\n",
    "sample_caption = torch.Tensor(sample_caption).long()\n",
    "print(sample_caption)"
   ]
  },
  {
   "cell_type": "markdown",
   "metadata": {},
   "source": [
    "And that's it!  In summary, any caption is converted to a list of tokens, with _special_ start and end tokens marking the beginning and end of the sentence:\n",
    "```\n",
    "[<start>, 'a', 'person', 'doing', 'a', 'trick', 'while', 'riding', 'a', 'skateboard', '.', <end>]\n",
    "```\n",
    "This list of tokens is then turned into a list of integers, where every distinct word in the vocabulary has an associated integer value:\n",
    "```\n",
    "[0, 3, 98, 754, 3, 396, 207, 139, 3, 753, 18, 1]\n",
    "```\n",
    "Finally, this list is converted to a PyTorch tensor.  All of the captions in the COCO dataset are pre-processed using this same procedure from **`lines 1-6`** described above.  \n",
    "\n",
    "As you saw, in order to convert a token to its corresponding integer, we call `data_loader.dataset.vocab` as a function.  The details of how this call works can be explored in the `__call__` method in the `Vocabulary` class in **vocabulary.py**.  \n",
    "\n",
    "```python\n",
    "def __call__(self, word):\n",
    "    if not word in self.word2idx:\n",
    "        return self.word2idx[self.unk_word]\n",
    "    return self.word2idx[word]\n",
    "```\n",
    "\n",
    "The `word2idx` instance variable is a Python [dictionary](https://docs.python.org/3/tutorial/datastructures.html#dictionaries) that is indexed by string-valued keys (mostly tokens obtained from training captions).  For each key, the corresponding value is the integer that the token is mapped to in the pre-processing step.\n",
    "\n",
    "Use the code cell below to view a subset of this dictionary."
   ]
  },
  {
   "cell_type": "code",
   "execution_count": 11,
   "metadata": {},
   "outputs": [
    {
     "data": {
      "text/plain": [
       "{'<start>': 0,\n",
       " '<end>': 1,\n",
       " '<unk>': 2,\n",
       " 'a': 3,\n",
       " 'very': 4,\n",
       " 'clean': 5,\n",
       " 'and': 6,\n",
       " 'well': 7,\n",
       " 'decorated': 8,\n",
       " 'empty': 9}"
      ]
     },
     "execution_count": 11,
     "metadata": {},
     "output_type": "execute_result"
    }
   ],
   "source": [
    "# Preview the word2idx dictionary.\n",
    "dict(list(data_loader.dataset.vocab.word2idx.items())[:10])"
   ]
  },
  {
   "cell_type": "markdown",
   "metadata": {},
   "source": [
    "We also print the total number of keys."
   ]
  },
  {
   "cell_type": "code",
   "execution_count": 12,
   "metadata": {},
   "outputs": [
    {
     "name": "stdout",
     "output_type": "stream",
     "text": [
      "Total number of tokens in vocabulary: 8852\n"
     ]
    }
   ],
   "source": [
    "# Print the total number of keys in the word2idx dictionary.\n",
    "print('Total number of tokens in vocabulary:', len(data_loader.dataset.vocab))"
   ]
  },
  {
   "cell_type": "markdown",
   "metadata": {},
   "source": [
    "As you will see if you examine the code in **vocabulary.py**, the `word2idx` dictionary is created by looping over the captions in the training dataset.  If a token appears no less than `vocab_threshold` times in the training set, then it is added as a key to the dictionary and assigned a corresponding unique integer.  You will have the option later to amend the `vocab_threshold` argument when instantiating your data loader.  Note that in general, **smaller** values for `vocab_threshold` yield a **larger** number of tokens in the vocabulary.  You are encouraged to check this for yourself in the next code cell by decreasing the value of `vocab_threshold` before creating a new data loader.  "
   ]
  },
  {
   "cell_type": "code",
   "execution_count": 4,
   "metadata": {},
   "outputs": [
    {
     "name": "stdout",
     "output_type": "stream",
     "text": [
      "loading annotations into memory...\n",
      "Done (t=0.50s)\n",
      "creating index...\n",
      "index created!\n",
      "[0/414113] Tokenizing captions...\n"
     ]
    },
    {
     "name": "stderr",
     "output_type": "stream",
     "text": [
      "\r",
      " 61%|██████▏   | 254323/414113 [00:37<00:11, 14058.67it/s]"
     ]
    },
    {
     "name": "stdout",
     "output_type": "stream",
     "text": [
      "[100000/414113] Tokenizing captions...\n",
      "[200000/414113] Tokenizing captions...\n",
      "[300000/414113] Tokenizing captions...\n",
      "[400000/414113] Tokenizing captions...\n",
      "loading annotations into memory...\n",
      "Done (t=0.51s)\n",
      "creating index...\n",
      "index created!\n",
      "Obtaining caption lengths for the subset...\n"
     ]
    },
    {
     "name": "stderr",
     "output_type": "stream",
     "text": [
      "\n",
      "  0%|          | 0/414113 [00:00<?, ?it/s]\u001b[A\n",
      "  0%|          | 1309/414113 [00:00<00:31, 13086.52it/s]\u001b[A\n",
      "  1%|          | 2684/414113 [00:00<00:30, 13474.54it/s]\u001b[A\n",
      "  1%|          | 4085/414113 [00:00<00:29, 13717.62it/s]\u001b[A\n",
      "  1%|▏         | 5457/414113 [00:00<00:30, 13382.83it/s]\u001b[A\n",
      "  2%|▏         | 6848/414113 [00:00<00:30, 13563.93it/s]\u001b[A\n",
      "  2%|▏         | 8213/414113 [00:00<00:29, 13591.46it/s]\u001b[A\n",
      "  2%|▏         | 9589/414113 [00:00<00:29, 13643.61it/s]\u001b[A\n",
      "  3%|▎         | 10959/414113 [00:00<00:29, 13659.64it/s]\u001b[A\n",
      "  3%|▎         | 12344/414113 [00:00<00:29, 13717.00it/s]\u001b[A\n",
      "  3%|▎         | 13722/414113 [00:01<00:29, 13671.12it/s]\u001b[A\n",
      "  4%|▎         | 15116/414113 [00:01<00:29, 13751.26it/s]\u001b[A\n",
      "  4%|▍         | 16492/414113 [00:01<00:28, 13729.17it/s]\u001b[A\n",
      "  4%|▍         | 17866/414113 [00:01<00:28, 13726.94it/s]\u001b[A\n",
      "  5%|▍         | 19239/414113 [00:01<00:28, 13678.51it/s]\u001b[A\n",
      "  5%|▍         | 20627/414113 [00:01<00:28, 13738.79it/s]\u001b[A\n",
      "  5%|▌         | 22003/414113 [00:01<00:28, 13744.07it/s]\u001b[A\n",
      "  6%|▌         | 23378/414113 [00:01<00:28, 13685.09it/s]\u001b[A\n",
      "  6%|▌         | 24771/414113 [00:01<00:28, 13756.17it/s]\u001b[A\n",
      "  6%|▋         | 26177/414113 [00:01<00:28, 13845.90it/s]\u001b[A\n",
      "  7%|▋         | 27584/414113 [00:02<00:27, 13910.41it/s]\u001b[A\n",
      "  7%|▋         | 28994/414113 [00:02<00:27, 13965.22it/s]\u001b[A\n",
      "  7%|▋         | 30391/414113 [00:02<00:27, 13898.78it/s]\u001b[A\n",
      "  8%|▊         | 31793/414113 [00:02<00:27, 13934.93it/s]\u001b[A\n",
      "  8%|▊         | 33187/414113 [00:02<00:27, 13899.90it/s]\u001b[A\n",
      "  8%|▊         | 34578/414113 [00:02<00:27, 13855.39it/s]\u001b[A\n",
      "  9%|▊         | 35964/414113 [00:02<00:27, 13821.42it/s]\u001b[A\n",
      "  9%|▉         | 37347/414113 [00:02<00:27, 13653.10it/s]\u001b[A\n",
      "  9%|▉         | 38724/414113 [00:02<00:27, 13685.85it/s]\u001b[A\n",
      " 10%|▉         | 40131/414113 [00:02<00:27, 13796.79it/s]\u001b[A\n",
      " 10%|█         | 41525/414113 [00:03<00:26, 13837.20it/s]\u001b[A\n",
      " 10%|█         | 42921/414113 [00:03<00:26, 13870.82it/s]\u001b[A\n",
      " 11%|█         | 44319/414113 [00:03<00:26, 13900.54it/s]\u001b[A\n",
      " 11%|█         | 45727/414113 [00:03<00:26, 13953.25it/s]\u001b[A\n",
      " 11%|█▏        | 47123/414113 [00:03<00:26, 13863.45it/s]\u001b[A\n",
      " 12%|█▏        | 48511/414113 [00:03<00:26, 13866.74it/s]\u001b[A\n",
      " 12%|█▏        | 49901/414113 [00:03<00:26, 13874.00it/s]\u001b[A\n",
      " 12%|█▏        | 51311/414113 [00:03<00:26, 13939.09it/s]\u001b[A\n",
      " 13%|█▎        | 52705/414113 [00:03<00:25, 13934.18it/s]\u001b[A\n",
      " 13%|█▎        | 54099/414113 [00:03<00:25, 13909.74it/s]\u001b[A\n",
      " 13%|█▎        | 55491/414113 [00:04<00:25, 13903.41it/s]\u001b[A\n",
      " 14%|█▎        | 56908/414113 [00:04<00:25, 13982.79it/s]\u001b[A\n",
      " 14%|█▍        | 58307/414113 [00:04<00:25, 13939.50it/s]\u001b[A\n",
      " 14%|█▍        | 59733/414113 [00:04<00:25, 14033.16it/s]\u001b[A\n",
      " 15%|█▍        | 61137/414113 [00:04<00:25, 14007.95it/s]\u001b[A\n",
      " 15%|█▌        | 62552/414113 [00:04<00:25, 14048.88it/s]\u001b[A\n",
      " 15%|█▌        | 63957/414113 [00:04<00:25, 13915.69it/s]\u001b[A\n",
      " 16%|█▌        | 65349/414113 [00:04<00:44, 7812.79it/s] \u001b[A\n",
      " 16%|█▌        | 66743/414113 [00:05<00:38, 8992.52it/s]\u001b[A\n",
      " 16%|█▋        | 68112/414113 [00:05<00:34, 10006.12it/s]\u001b[A\n",
      " 17%|█▋        | 69535/414113 [00:05<00:31, 10999.59it/s]\u001b[A\n",
      " 17%|█▋        | 70918/414113 [00:05<00:29, 11710.33it/s]\u001b[A\n",
      " 17%|█▋        | 72305/414113 [00:05<00:27, 12281.35it/s]\u001b[A\n",
      " 18%|█▊        | 73645/414113 [00:05<00:27, 12300.14it/s]\u001b[A\n",
      " 18%|█▊        | 75011/414113 [00:05<00:26, 12674.12it/s]\u001b[A\n",
      " 18%|█▊        | 76386/414113 [00:05<00:26, 12976.56it/s]\u001b[A\n",
      " 19%|█▉        | 77796/414113 [00:05<00:25, 13298.48it/s]\u001b[A\n",
      " 19%|█▉        | 79210/414113 [00:06<00:24, 13541.81it/s]\u001b[A\n",
      " 19%|█▉        | 80588/414113 [00:06<00:24, 13610.36it/s]\u001b[A\n",
      " 20%|█▉        | 81965/414113 [00:06<00:24, 13604.36it/s]\u001b[A\n",
      " 20%|██        | 83390/414113 [00:06<00:23, 13793.56it/s]\u001b[A\n",
      " 20%|██        | 84778/414113 [00:06<00:23, 13803.77it/s]\u001b[A\n",
      " 21%|██        | 86184/414113 [00:06<00:23, 13878.17it/s]\u001b[A\n",
      " 21%|██        | 87594/414113 [00:06<00:23, 13942.75it/s]\u001b[A\n",
      " 21%|██▏       | 88992/414113 [00:06<00:23, 13885.91it/s]\u001b[A\n",
      " 22%|██▏       | 90401/414113 [00:06<00:23, 13945.71it/s]\u001b[A\n",
      " 22%|██▏       | 91798/414113 [00:06<00:23, 13951.35it/s]\u001b[A\n",
      " 23%|██▎       | 93195/414113 [00:07<00:23, 13942.42it/s]\u001b[A\n",
      " 23%|██▎       | 94590/414113 [00:07<00:22, 13902.98it/s]\u001b[A\n",
      " 23%|██▎       | 95984/414113 [00:07<00:22, 13912.63it/s]\u001b[A\n",
      " 24%|██▎       | 97386/414113 [00:07<00:22, 13943.60it/s]\u001b[A\n",
      " 24%|██▍       | 98781/414113 [00:07<00:22, 13902.49it/s]\u001b[A\n",
      " 24%|██▍       | 100172/414113 [00:07<00:22, 13838.15it/s]\u001b[A\n",
      " 25%|██▍       | 101560/414113 [00:07<00:22, 13850.51it/s]\u001b[A\n",
      " 25%|██▍       | 102946/414113 [00:07<00:22, 13778.19it/s]\u001b[A\n",
      " 25%|██▌       | 104349/414113 [00:07<00:22, 13849.70it/s]\u001b[A\n",
      " 26%|██▌       | 105735/414113 [00:07<00:22, 13667.62it/s]\u001b[A\n",
      " 26%|██▌       | 107127/414113 [00:08<00:22, 13741.89it/s]\u001b[A\n",
      " 26%|██▌       | 108502/414113 [00:08<00:22, 13711.57it/s]\u001b[A\n",
      " 27%|██▋       | 109883/414113 [00:08<00:22, 13740.12it/s]\u001b[A\n",
      " 27%|██▋       | 111263/414113 [00:08<00:22, 13757.58it/s]\u001b[A\n",
      " 27%|██▋       | 112640/414113 [00:08<00:21, 13759.35it/s]\u001b[A\n",
      " 28%|██▊       | 114017/414113 [00:08<00:21, 13759.98it/s]\u001b[A\n",
      " 28%|██▊       | 115400/414113 [00:08<00:21, 13779.91it/s]\u001b[A\n",
      " 28%|██▊       | 116816/414113 [00:08<00:21, 13891.69it/s]\u001b[A\n",
      " 29%|██▊       | 118206/414113 [00:08<00:21, 13833.01it/s]\u001b[A\n",
      " 29%|██▉       | 119602/414113 [00:08<00:21, 13869.70it/s]\u001b[A\n",
      " 29%|██▉       | 121024/414113 [00:09<00:20, 13971.84it/s]\u001b[A\n",
      " 30%|██▉       | 122422/414113 [00:09<00:21, 13744.94it/s]\u001b[A\n",
      " 30%|██▉       | 123799/414113 [00:09<00:21, 13749.95it/s]\u001b[A\n",
      " 30%|███       | 125216/414113 [00:09<00:20, 13872.46it/s]\u001b[A\n",
      " 31%|███       | 126613/414113 [00:09<00:20, 13900.17it/s]\u001b[A\n",
      " 31%|███       | 128004/414113 [00:09<00:20, 13839.72it/s]\u001b[A\n",
      " 31%|███       | 129402/414113 [00:09<00:20, 13879.46it/s]\u001b[A\n",
      " 32%|███▏      | 130791/414113 [00:09<00:20, 13855.35it/s]\u001b[A\n",
      " 32%|███▏      | 132177/414113 [00:09<00:20, 13848.70it/s]\u001b[A\n",
      " 32%|███▏      | 133575/414113 [00:09<00:20, 13886.46it/s]\u001b[A\n",
      " 33%|███▎      | 134964/414113 [00:10<00:20, 13742.42it/s]\u001b[A\n",
      " 33%|███▎      | 136378/414113 [00:10<00:20, 13859.20it/s]\u001b[A\n",
      " 33%|███▎      | 137768/414113 [00:10<00:19, 13870.74it/s]\u001b[A\n",
      " 34%|███▎      | 139156/414113 [00:10<00:19, 13766.42it/s]\u001b[A\n",
      " 34%|███▍      | 140546/414113 [00:10<00:19, 13805.59it/s]\u001b[A\n",
      " 34%|███▍      | 141927/414113 [00:10<00:19, 13762.25it/s]\u001b[A\n",
      " 35%|███▍      | 143304/414113 [00:10<00:19, 13695.80it/s]\u001b[A\n",
      " 35%|███▍      | 144698/414113 [00:10<00:19, 13767.99it/s]\u001b[A\n",
      " 35%|███▌      | 146086/414113 [00:10<00:19, 13799.87it/s]\u001b[A\n",
      " 36%|███▌      | 147467/414113 [00:10<00:19, 13735.58it/s]\u001b[A\n",
      " 36%|███▌      | 148841/414113 [00:11<00:19, 13675.03it/s]\u001b[A\n",
      " 36%|███▋      | 150238/414113 [00:11<00:19, 13760.54it/s]\u001b[A\n",
      " 37%|███▋      | 151643/414113 [00:11<00:18, 13843.93it/s]\u001b[A\n",
      " 37%|███▋      | 153035/414113 [00:11<00:18, 13865.36it/s]\u001b[A\n",
      " 37%|███▋      | 154422/414113 [00:11<00:18, 13757.89it/s]\u001b[A\n",
      " 38%|███▊      | 155799/414113 [00:11<00:18, 13674.56it/s]\u001b[A\n",
      " 38%|███▊      | 157170/414113 [00:11<00:18, 13684.42it/s]\u001b[A\n",
      " 38%|███▊      | 158578/414113 [00:11<00:18, 13799.46it/s]\u001b[A\n",
      " 39%|███▊      | 160005/414113 [00:11<00:18, 13938.46it/s]\u001b[A\n",
      " 39%|███▉      | 161400/414113 [00:11<00:18, 13889.16it/s]\u001b[A\n",
      " 39%|███▉      | 162790/414113 [00:12<00:18, 13881.61it/s]\u001b[A\n",
      " 40%|███▉      | 164179/414113 [00:12<00:18, 13851.42it/s]\u001b[A\n",
      " 40%|███▉      | 165565/414113 [00:12<00:18, 13791.38it/s]\u001b[A\n",
      " 40%|████      | 166945/414113 [00:12<00:17, 13762.99it/s]\u001b[A\n",
      " 41%|████      | 168332/414113 [00:12<00:17, 13794.54it/s]\u001b[A\n",
      " 41%|████      | 169712/414113 [00:12<00:17, 13658.27it/s]\u001b[A\n",
      " 41%|████▏     | 171079/414113 [00:12<00:17, 13534.22it/s]\u001b[A\n",
      " 42%|████▏     | 172433/414113 [00:12<00:18, 13171.39it/s]\u001b[A\n",
      " 42%|████▏     | 173804/414113 [00:12<00:18, 13327.47it/s]\u001b[A\n",
      " 42%|████▏     | 175166/414113 [00:12<00:17, 13413.04it/s]\u001b[A\n",
      " 43%|████▎     | 176555/414113 [00:13<00:17, 13552.34it/s]\u001b[A\n",
      " 43%|████▎     | 177912/414113 [00:13<00:17, 13480.97it/s]\u001b[A\n",
      " 43%|████▎     | 179298/414113 [00:13<00:17, 13592.34it/s]\u001b[A\n",
      " 44%|████▎     | 180658/414113 [00:13<00:17, 13581.61it/s]\u001b[A\n",
      " 44%|████▍     | 182045/414113 [00:13<00:16, 13666.12it/s]\u001b[A\n",
      " 44%|████▍     | 183438/414113 [00:13<00:16, 13743.01it/s]\u001b[A\n"
     ]
    },
    {
     "name": "stderr",
     "output_type": "stream",
     "text": [
      " 45%|████▍     | 184813/414113 [00:13<00:16, 13743.14it/s]\u001b[A\n",
      " 45%|████▍     | 186198/414113 [00:13<00:16, 13774.29it/s]\u001b[A\n",
      " 45%|████▌     | 187600/414113 [00:13<00:16, 13845.80it/s]\u001b[A\n",
      " 46%|████▌     | 188985/414113 [00:13<00:16, 13719.89it/s]\u001b[A\n",
      " 46%|████▌     | 190404/414113 [00:14<00:16, 13859.08it/s]\u001b[A\n",
      " 46%|████▋     | 191791/414113 [00:14<00:16, 13857.22it/s]\u001b[A\n",
      " 47%|████▋     | 193179/414113 [00:14<00:15, 13862.34it/s]\u001b[A\n",
      " 47%|████▋     | 194566/414113 [00:14<00:15, 13789.47it/s]\u001b[A\n",
      " 47%|████▋     | 195946/414113 [00:14<00:15, 13770.58it/s]\u001b[A\n",
      " 48%|████▊     | 197324/414113 [00:14<00:15, 13588.60it/s]\u001b[A\n",
      " 48%|████▊     | 198687/414113 [00:14<00:15, 13599.14it/s]\u001b[A\n",
      " 48%|████▊     | 200067/414113 [00:14<00:15, 13657.07it/s]\u001b[A\n",
      " 49%|████▊     | 201483/414113 [00:14<00:15, 13806.29it/s]\u001b[A\n",
      " 49%|████▉     | 202864/414113 [00:14<00:15, 13770.50it/s]\u001b[A\n",
      " 49%|████▉     | 204255/414113 [00:15<00:15, 13811.20it/s]\u001b[A\n",
      " 50%|████▉     | 205637/414113 [00:15<00:15, 13759.05it/s]\u001b[A\n",
      " 50%|████▉     | 207014/414113 [00:15<00:15, 13698.46it/s]\u001b[A\n",
      " 50%|█████     | 208406/414113 [00:15<00:14, 13761.41it/s]\u001b[A\n",
      " 51%|█████     | 209820/414113 [00:15<00:14, 13871.85it/s]\u001b[A\n",
      " 51%|█████     | 211221/414113 [00:15<00:14, 13911.51it/s]\u001b[A\n",
      " 51%|█████▏    | 212623/414113 [00:15<00:14, 13943.53it/s]\u001b[A\n",
      " 52%|█████▏    | 214018/414113 [00:15<00:14, 13870.71it/s]\u001b[A\n",
      " 52%|█████▏    | 215406/414113 [00:15<00:14, 13791.86it/s]\u001b[A\n",
      " 52%|█████▏    | 216806/414113 [00:15<00:14, 13850.40it/s]\u001b[A\n",
      " 53%|█████▎    | 218219/414113 [00:16<00:14, 13932.95it/s]\u001b[A\n",
      " 53%|█████▎    | 219637/414113 [00:16<00:13, 14005.19it/s]\u001b[A\n",
      " 53%|█████▎    | 221057/414113 [00:16<00:13, 14060.91it/s]\u001b[A\n",
      " 54%|█████▎    | 222464/414113 [00:16<00:13, 13870.47it/s]\u001b[A\n",
      " 54%|█████▍    | 223879/414113 [00:16<00:13, 13953.09it/s]\u001b[A\n",
      " 54%|█████▍    | 225275/414113 [00:16<00:13, 13778.78it/s]\u001b[A\n",
      " 55%|█████▍    | 226671/414113 [00:16<00:13, 13830.58it/s]\u001b[A\n",
      " 55%|█████▌    | 228127/414113 [00:16<00:13, 14046.22it/s]\u001b[A\n",
      " 55%|█████▌    | 229533/414113 [00:16<00:13, 14010.25it/s]\u001b[A\n",
      " 56%|█████▌    | 230935/414113 [00:17<00:27, 6682.74it/s] \u001b[A\n",
      " 56%|█████▌    | 232310/414113 [00:17<00:23, 7874.50it/s]\u001b[A\n",
      " 56%|█████▋    | 233686/414113 [00:17<00:20, 9017.25it/s]\u001b[A\n",
      " 57%|█████▋    | 235072/414113 [00:17<00:17, 10067.56it/s]\u001b[A\n",
      " 57%|█████▋    | 236471/414113 [00:17<00:16, 10994.36it/s]\u001b[A\n",
      " 57%|█████▋    | 237839/414113 [00:17<00:15, 11671.96it/s]\u001b[A\n",
      " 58%|█████▊    | 239226/414113 [00:17<00:14, 12254.25it/s]\u001b[A\n",
      " 58%|█████▊    | 240627/414113 [00:18<00:13, 12734.86it/s]\u001b[A\n",
      " 58%|█████▊    | 242032/414113 [00:18<00:13, 13103.24it/s]\u001b[A\n",
      " 59%|█████▉    | 243434/414113 [00:18<00:12, 13364.20it/s]\u001b[A\n",
      " 59%|█████▉    | 244842/414113 [00:18<00:12, 13569.82it/s]\u001b[A\n",
      " 59%|█████▉    | 246248/414113 [00:18<00:12, 13713.52it/s]\u001b[A\n",
      " 60%|█████▉    | 247643/414113 [00:18<00:12, 13671.60it/s]\u001b[A\n",
      " 60%|██████    | 249027/414113 [00:18<00:12, 13503.22it/s]\u001b[A\n",
      " 60%|██████    | 250414/414113 [00:18<00:12, 13609.06it/s]\u001b[A\n",
      " 61%|██████    | 251818/414113 [00:18<00:11, 13734.75it/s]\u001b[A\n",
      " 61%|██████    | 253234/414113 [00:18<00:11, 13859.23it/s]\u001b[A\n",
      " 61%|██████▏   | 254625/414113 [00:19<00:11, 13856.08it/s]\u001b[A\n",
      " 62%|██████▏   | 256014/414113 [00:19<00:11, 13831.18it/s]\u001b[A\n",
      " 62%|██████▏   | 257452/414113 [00:19<00:11, 13993.61it/s]\u001b[A\n",
      " 63%|██████▎   | 258853/414113 [00:19<00:11, 13975.67it/s]\u001b[A\n",
      " 63%|██████▎   | 260252/414113 [00:19<00:11, 13896.89it/s]\u001b[A\n",
      " 63%|██████▎   | 261671/414113 [00:19<00:10, 13983.98it/s]\u001b[A\n",
      " 64%|██████▎   | 263071/414113 [00:19<00:10, 13809.44it/s]\u001b[A\n",
      " 64%|██████▍   | 264453/414113 [00:19<00:10, 13752.54it/s]\u001b[A\n",
      " 64%|██████▍   | 265829/414113 [00:19<00:10, 13721.96it/s]\u001b[A\n",
      " 65%|██████▍   | 267222/414113 [00:19<00:10, 13782.81it/s]\u001b[A\n",
      " 65%|██████▍   | 268620/414113 [00:20<00:10, 13839.94it/s]\u001b[A\n",
      " 65%|██████▌   | 270005/414113 [00:20<00:10, 13842.26it/s]\u001b[A\n",
      " 66%|██████▌   | 271390/414113 [00:20<00:10, 13828.26it/s]\u001b[A\n",
      " 66%|██████▌   | 272773/414113 [00:20<00:10, 13714.18it/s]\u001b[A\n",
      " 66%|██████▌   | 274164/414113 [00:20<00:10, 13771.33it/s]\u001b[A\n",
      " 67%|██████▋   | 275562/414113 [00:20<00:10, 13830.91it/s]\u001b[A\n",
      " 67%|██████▋   | 276946/414113 [00:20<00:09, 13759.46it/s]\u001b[A\n",
      " 67%|██████▋   | 278329/414113 [00:20<00:09, 13776.97it/s]\u001b[A\n",
      " 68%|██████▊   | 279707/414113 [00:20<00:09, 13729.53it/s]\u001b[A\n",
      " 68%|██████▊   | 281081/414113 [00:20<00:09, 13656.11it/s]\u001b[A\n",
      " 68%|██████▊   | 282447/414113 [00:21<00:09, 13595.57it/s]\u001b[A\n",
      " 69%|██████▊   | 283849/414113 [00:21<00:09, 13720.92it/s]\u001b[A\n",
      " 69%|██████▉   | 285263/414113 [00:21<00:09, 13843.54it/s]\u001b[A\n",
      " 69%|██████▉   | 286683/414113 [00:21<00:09, 13949.50it/s]\u001b[A\n",
      " 70%|██████▉   | 288098/414113 [00:21<00:08, 14006.74it/s]\u001b[A\n",
      " 70%|██████▉   | 289499/414113 [00:21<00:08, 13908.28it/s]\u001b[A\n",
      " 70%|███████   | 290902/414113 [00:21<00:08, 13943.76it/s]\u001b[A\n",
      " 71%|███████   | 292297/414113 [00:21<00:08, 13925.72it/s]\u001b[A\n",
      " 71%|███████   | 293712/414113 [00:21<00:08, 13991.89it/s]\u001b[A\n",
      " 71%|███████▏  | 295137/414113 [00:21<00:08, 13909.42it/s]\u001b[A\n",
      " 72%|███████▏  | 296544/414113 [00:22<00:08, 13953.54it/s]\u001b[A\n",
      " 72%|███████▏  | 297940/414113 [00:22<00:08, 13722.48it/s]\u001b[A\n",
      " 72%|███████▏  | 299340/414113 [00:22<00:08, 13803.60it/s]\u001b[A\n",
      " 73%|███████▎  | 300742/414113 [00:22<00:08, 13867.34it/s]\u001b[A\n",
      " 73%|███████▎  | 302130/414113 [00:22<00:08, 13849.14it/s]\u001b[A\n",
      " 73%|███████▎  | 303533/414113 [00:22<00:07, 13901.17it/s]\u001b[A\n",
      " 74%|███████▎  | 304924/414113 [00:22<00:08, 13633.83it/s]\u001b[A\n",
      " 74%|███████▍  | 306289/414113 [00:22<00:07, 13520.71it/s]\u001b[A\n",
      " 74%|███████▍  | 307682/414113 [00:22<00:07, 13640.10it/s]\u001b[A\n",
      " 75%|███████▍  | 309103/414113 [00:23<00:07, 13806.26it/s]\u001b[A\n",
      " 75%|███████▍  | 310527/414113 [00:23<00:07, 13931.97it/s]\u001b[A\n",
      " 75%|███████▌  | 311921/414113 [00:23<00:07, 13914.61it/s]\u001b[A\n",
      " 76%|███████▌  | 313317/414113 [00:23<00:07, 13926.98it/s]\u001b[A\n",
      " 76%|███████▌  | 314711/414113 [00:23<00:07, 13851.93it/s]\u001b[A\n",
      " 76%|███████▋  | 316116/414113 [00:23<00:07, 13908.39it/s]\u001b[A\n",
      " 77%|███████▋  | 317520/414113 [00:23<00:06, 13947.55it/s]\u001b[A\n",
      " 77%|███████▋  | 318925/414113 [00:23<00:06, 13977.18it/s]\u001b[A\n",
      " 77%|███████▋  | 320326/414113 [00:23<00:06, 13985.12it/s]\u001b[A\n",
      " 78%|███████▊  | 321730/414113 [00:23<00:06, 14000.48it/s]\u001b[A\n",
      " 78%|███████▊  | 323131/414113 [00:24<00:06, 13936.90it/s]\u001b[A\n",
      " 78%|███████▊  | 324530/414113 [00:24<00:06, 13952.52it/s]\u001b[A\n",
      " 79%|███████▊  | 325937/414113 [00:24<00:06, 13985.22it/s]\u001b[A\n",
      " 79%|███████▉  | 327350/414113 [00:24<00:06, 14026.41it/s]\u001b[A\n",
      " 79%|███████▉  | 328753/414113 [00:24<00:06, 13948.05it/s]\u001b[A\n",
      " 80%|███████▉  | 330148/414113 [00:24<00:06, 13934.72it/s]\u001b[A\n",
      " 80%|████████  | 331542/414113 [00:24<00:06, 13616.26it/s]\u001b[A\n",
      " 80%|████████  | 332946/414113 [00:24<00:05, 13739.22it/s]\u001b[A\n",
      " 81%|████████  | 334322/414113 [00:24<00:05, 13743.40it/s]\u001b[A\n",
      " 81%|████████  | 335705/414113 [00:24<00:05, 13767.87it/s]\u001b[A\n",
      " 81%|████████▏ | 337083/414113 [00:25<00:05, 13753.21it/s]\u001b[A\n",
      " 82%|████████▏ | 338459/414113 [00:25<00:05, 13681.47it/s]\u001b[A\n",
      " 82%|████████▏ | 339828/414113 [00:25<00:05, 13656.24it/s]\u001b[A\n",
      " 82%|████████▏ | 341201/414113 [00:25<00:05, 13675.65it/s]\u001b[A\n",
      " 83%|████████▎ | 342594/414113 [00:25<00:05, 13750.26it/s]\u001b[A\n",
      " 83%|████████▎ | 343970/414113 [00:25<00:05, 13656.59it/s]\u001b[A\n",
      " 83%|████████▎ | 345348/414113 [00:25<00:05, 13690.90it/s]\u001b[A\n",
      " 84%|████████▎ | 346740/414113 [00:25<00:04, 13757.27it/s]\u001b[A\n",
      " 84%|████████▍ | 348116/414113 [00:25<00:04, 13684.61it/s]\u001b[A\n",
      " 84%|████████▍ | 349497/414113 [00:25<00:04, 13720.83it/s]\u001b[A\n",
      " 85%|████████▍ | 350910/414113 [00:26<00:04, 13840.20it/s]\u001b[A\n",
      " 85%|████████▌ | 352307/414113 [00:26<00:04, 13877.44it/s]\u001b[A\n",
      " 85%|████████▌ | 353695/414113 [00:26<00:04, 13713.53it/s]\u001b[A\n",
      " 86%|████████▌ | 355112/414113 [00:26<00:04, 13847.68it/s]\u001b[A\n",
      " 86%|████████▌ | 356498/414113 [00:26<00:04, 13710.66it/s]\u001b[A\n",
      " 86%|████████▋ | 357895/414113 [00:26<00:04, 13784.93it/s]\u001b[A\n",
      " 87%|████████▋ | 359276/414113 [00:26<00:03, 13791.64it/s]\u001b[A\n",
      " 87%|████████▋ | 360672/414113 [00:26<00:03, 13841.27it/s]\u001b[A\n",
      " 87%|████████▋ | 362057/414113 [00:26<00:03, 13765.66it/s]\u001b[A\n",
      " 88%|████████▊ | 363442/414113 [00:26<00:03, 13789.15it/s]\u001b[A\n",
      " 88%|████████▊ | 364822/414113 [00:27<00:03, 13681.52it/s]\u001b[A\n",
      " 88%|████████▊ | 366221/414113 [00:27<00:03, 13770.61it/s]\u001b[A\n",
      " 89%|████████▉ | 367608/414113 [00:27<00:03, 13797.85it/s]\u001b[A\n"
     ]
    },
    {
     "name": "stderr",
     "output_type": "stream",
     "text": [
      " 89%|████████▉ | 369003/414113 [00:27<00:03, 13841.75it/s]\u001b[A\n",
      " 89%|████████▉ | 370388/414113 [00:27<00:03, 13781.23it/s]\u001b[A\n",
      " 90%|████████▉ | 371767/414113 [00:27<00:03, 13754.89it/s]\u001b[A\n",
      " 90%|█████████ | 373143/414113 [00:27<00:03, 13576.14it/s]\u001b[A\n",
      " 90%|█████████ | 374529/414113 [00:27<00:02, 13659.39it/s]\u001b[A\n",
      " 91%|█████████ | 375901/414113 [00:27<00:02, 13675.40it/s]\u001b[A\n",
      " 91%|█████████ | 377303/414113 [00:27<00:02, 13775.35it/s]\u001b[A\n",
      " 91%|█████████▏| 378691/414113 [00:28<00:02, 13805.19it/s]\u001b[A\n",
      " 92%|█████████▏| 380072/414113 [00:28<00:02, 13779.86it/s]\u001b[A\n",
      " 92%|█████████▏| 381451/414113 [00:28<00:02, 13766.44it/s]\u001b[A\n",
      " 92%|█████████▏| 382856/414113 [00:28<00:02, 13849.06it/s]\u001b[A\n",
      " 93%|█████████▎| 384242/414113 [00:28<00:02, 13847.61it/s]\u001b[A\n",
      " 93%|█████████▎| 385639/414113 [00:28<00:02, 13881.58it/s]\u001b[A\n",
      " 93%|█████████▎| 387028/414113 [00:28<00:01, 13659.89it/s]\u001b[A\n",
      " 94%|█████████▍| 388426/414113 [00:28<00:01, 13754.47it/s]\u001b[A\n",
      " 94%|█████████▍| 389803/414113 [00:28<00:01, 13732.14it/s]\u001b[A\n",
      " 94%|█████████▍| 391214/414113 [00:28<00:01, 13844.29it/s]\u001b[A\n",
      " 95%|█████████▍| 392617/414113 [00:29<00:01, 13898.90it/s]\u001b[A\n",
      " 95%|█████████▌| 394008/414113 [00:29<00:01, 13622.58it/s]\u001b[A\n",
      " 95%|█████████▌| 395393/414113 [00:29<00:01, 13688.33it/s]\u001b[A\n",
      " 96%|█████████▌| 396778/414113 [00:29<00:01, 13734.58it/s]\u001b[A\n",
      " 96%|█████████▌| 398153/414113 [00:29<00:01, 13701.01it/s]\u001b[A\n",
      " 96%|█████████▋| 399524/414113 [00:29<00:01, 13649.49it/s]\u001b[A\n",
      " 97%|█████████▋| 400890/414113 [00:29<00:00, 13583.88it/s]\u001b[A\n",
      " 97%|█████████▋| 402303/414113 [00:29<00:00, 13743.76it/s]\u001b[A\n",
      " 97%|█████████▋| 403688/414113 [00:29<00:00, 13774.53it/s]\u001b[A\n",
      " 98%|█████████▊| 405071/414113 [00:29<00:00, 13788.85it/s]\u001b[A\n",
      " 98%|█████████▊| 406451/414113 [00:30<00:00, 13786.55it/s]\u001b[A\n",
      " 98%|█████████▊| 407853/414113 [00:30<00:00, 13854.78it/s]\u001b[A\n",
      " 99%|█████████▉| 409244/414113 [00:30<00:00, 13868.67it/s]\u001b[A\n",
      " 99%|█████████▉| 410674/414113 [00:30<00:00, 13995.29it/s]\u001b[A\n",
      "100%|█████████▉| 412074/414113 [00:30<00:00, 13991.87it/s]\u001b[A\n",
      "100%|██████████| 414113/414113 [00:30<00:00, 13520.50it/s]\u001b[A\n"
     ]
    }
   ],
   "source": [
    "# Modify the minimum word count threshold.\n",
    "vocab_threshold = 5\n",
    "\n",
    "# Obtain the data loader.\n",
    "data_loader = get_loader(transform=transform_train,\n",
    "                         mode='train',\n",
    "                         batch_size=batch_size,\n",
    "                         vocab_threshold=vocab_threshold,\n",
    "                         vocab_from_file=False)"
   ]
  },
  {
   "cell_type": "code",
   "execution_count": 14,
   "metadata": {},
   "outputs": [
    {
     "name": "stdout",
     "output_type": "stream",
     "text": [
      "Total number of tokens in vocabulary: 9947\n"
     ]
    }
   ],
   "source": [
    "# Print the total number of keys in the word2idx dictionary.\n",
    "print('Total number of tokens in vocabulary:', len(data_loader.dataset.vocab))"
   ]
  },
  {
   "cell_type": "markdown",
   "metadata": {},
   "source": [
    "There are also a few special keys in the `word2idx` dictionary.  You are already familiar with the special start word (`\"<start>\"`) and special end word (`\"<end>\"`).  There is one more special token, corresponding to unknown words (`\"<unk>\"`).  All tokens that don't appear anywhere in the `word2idx` dictionary are considered unknown words.  In the pre-processing step, any unknown tokens are mapped to the integer `2`."
   ]
  },
  {
   "cell_type": "code",
   "execution_count": 15,
   "metadata": {},
   "outputs": [
    {
     "name": "stdout",
     "output_type": "stream",
     "text": [
      "Special unknown word: <unk>\n",
      "All unknown words are mapped to this integer: 2\n"
     ]
    }
   ],
   "source": [
    "unk_word = data_loader.dataset.vocab.unk_word\n",
    "print('Special unknown word:', unk_word)\n",
    "\n",
    "print('All unknown words are mapped to this integer:', data_loader.dataset.vocab(unk_word))"
   ]
  },
  {
   "cell_type": "markdown",
   "metadata": {},
   "source": [
    "Check this for yourself below, by pre-processing the provided nonsense words that never appear in the training captions. "
   ]
  },
  {
   "cell_type": "code",
   "execution_count": 16,
   "metadata": {},
   "outputs": [
    {
     "name": "stdout",
     "output_type": "stream",
     "text": [
      "2\n",
      "2\n"
     ]
    }
   ],
   "source": [
    "print(data_loader.dataset.vocab('jfkafejw'))\n",
    "print(data_loader.dataset.vocab('ieowoqjf'))"
   ]
  },
  {
   "cell_type": "markdown",
   "metadata": {},
   "source": [
    "The final thing to mention is the `vocab_from_file` argument that is supplied when creating a data loader.  To understand this argument, note that when you create a new data loader, the vocabulary (`data_loader.dataset.vocab`) is saved as a [pickle](https://docs.python.org/3/library/pickle.html) file in the project folder, with filename `vocab.pkl`.\n",
    "\n",
    "If you are still tweaking the value of the `vocab_threshold` argument, you **must** set `vocab_from_file=False` to have your changes take effect.  \n",
    "\n",
    "But once you are happy with the value that you have chosen for the `vocab_threshold` argument, you need only run the data loader *one more time* with your chosen `vocab_threshold` to save the new vocabulary to file.  Then, you can henceforth set `vocab_from_file=True` to load the vocabulary from file and speed the instantiation of the data loader.  Note that building the vocabulary from scratch is the most time-consuming part of instantiating the data loader, and so you are strongly encouraged to set `vocab_from_file=True` as soon as you are able.\n",
    "\n",
    "Note that if `vocab_from_file=True`, then any supplied argument for `vocab_threshold` when instantiating the data loader is completely ignored."
   ]
  },
  {
   "cell_type": "code",
   "execution_count": 5,
   "metadata": {},
   "outputs": [
    {
     "name": "stdout",
     "output_type": "stream",
     "text": [
      "Vocabulary successfully loaded from vocab.pkl file!\n",
      "loading annotations into memory...\n",
      "Done (t=0.47s)\n",
      "creating index...\n",
      "index created!\n",
      "Obtaining caption lengths for the subset...\n"
     ]
    },
    {
     "name": "stderr",
     "output_type": "stream",
     "text": [
      "\n",
      "  0%|          | 0/414113 [00:00<?, ?it/s]\u001b[A\n",
      "  0%|          | 1252/414113 [00:00<00:32, 12518.46it/s]\u001b[A\n",
      "  1%|          | 2515/414113 [00:00<00:32, 12583.49it/s]\u001b[A\n",
      "  1%|          | 3872/414113 [00:00<00:31, 13033.31it/s]\u001b[A\n",
      "  1%|▏         | 5244/414113 [00:00<00:30, 13300.74it/s]\u001b[A\n",
      "  2%|▏         | 6592/414113 [00:00<00:30, 13363.66it/s]\u001b[A\n",
      "  2%|▏         | 7959/414113 [00:00<00:30, 13466.61it/s]\u001b[A\n",
      "  2%|▏         | 9366/414113 [00:00<00:29, 13663.65it/s]\u001b[A\n",
      "  3%|▎         | 10733/414113 [00:00<00:29, 13516.47it/s]\u001b[A\n",
      "  3%|▎         | 12118/414113 [00:00<00:29, 13617.74it/s]\u001b[A\n",
      "  3%|▎         | 13482/414113 [00:01<00:29, 13623.66it/s]\u001b[A\n",
      "  4%|▎         | 14845/414113 [00:01<00:29, 13541.88it/s]\u001b[A\n",
      "  4%|▍         | 16235/414113 [00:01<00:29, 13649.82it/s]\u001b[A\n",
      "  4%|▍         | 17628/414113 [00:01<00:28, 13731.31it/s]\u001b[A\n",
      "  5%|▍         | 19002/414113 [00:01<00:29, 13598.39it/s]\u001b[A\n",
      "  5%|▍         | 20364/414113 [00:01<00:28, 13603.23it/s]\u001b[A\n",
      "  5%|▌         | 21734/414113 [00:01<00:28, 13630.21it/s]\u001b[A\n",
      "  6%|▌         | 23120/414113 [00:01<00:28, 13696.03it/s]\u001b[A\n",
      "  6%|▌         | 24496/414113 [00:01<00:28, 13714.32it/s]\u001b[A\n",
      "  6%|▌         | 25868/414113 [00:01<00:28, 13700.19it/s]\u001b[A\n",
      "  7%|▋         | 27239/414113 [00:02<00:28, 13560.45it/s]\u001b[A\n",
      "  7%|▋         | 28596/414113 [00:02<00:28, 13531.22it/s]\u001b[A\n",
      "  7%|▋         | 29968/414113 [00:02<00:28, 13585.34it/s]\u001b[A\n",
      "  8%|▊         | 31369/414113 [00:02<00:27, 13709.72it/s]\u001b[A\n",
      "  8%|▊         | 32741/414113 [00:02<00:27, 13696.94it/s]\u001b[A\n",
      "  8%|▊         | 34125/414113 [00:02<00:27, 13739.03it/s]\u001b[A\n",
      "  9%|▊         | 35500/414113 [00:02<00:27, 13596.79it/s]\u001b[A\n",
      "  9%|▉         | 36914/414113 [00:02<00:27, 13757.92it/s]\u001b[A\n",
      "  9%|▉         | 38296/414113 [00:02<00:27, 13775.27it/s]\u001b[A\n",
      " 10%|▉         | 39694/414113 [00:02<00:27, 13836.09it/s]\u001b[A\n",
      " 10%|▉         | 41102/414113 [00:03<00:26, 13906.64it/s]\u001b[A\n",
      " 10%|█         | 42493/414113 [00:03<00:27, 13731.92it/s]\u001b[A\n",
      " 11%|█         | 43867/414113 [00:03<00:27, 13514.47it/s]\u001b[A\n",
      " 11%|█         | 45250/414113 [00:03<00:27, 13606.87it/s]\u001b[A\n",
      " 11%|█▏        | 46628/414113 [00:03<00:26, 13657.88it/s]\u001b[A\n",
      " 12%|█▏        | 48014/414113 [00:03<00:26, 13715.05it/s]\u001b[A\n",
      " 12%|█▏        | 49406/414113 [00:03<00:26, 13774.68it/s]\u001b[A\n",
      " 12%|█▏        | 50815/414113 [00:03<00:26, 13867.28it/s]\u001b[A\n",
      " 13%|█▎        | 52203/414113 [00:03<00:26, 13799.68it/s]\u001b[A\n",
      " 13%|█▎        | 53602/414113 [00:03<00:26, 13855.58it/s]\u001b[A\n",
      " 13%|█▎        | 54988/414113 [00:04<00:25, 13848.79it/s]\u001b[A\n",
      " 14%|█▎        | 56389/414113 [00:04<00:25, 13894.95it/s]\u001b[A\n",
      " 14%|█▍        | 57779/414113 [00:04<00:25, 13817.40it/s]\u001b[A\n",
      " 14%|█▍        | 59176/414113 [00:04<00:25, 13861.04it/s]\u001b[A\n",
      " 15%|█▍        | 60567/414113 [00:04<00:25, 13875.31it/s]\u001b[A\n",
      " 15%|█▍        | 61955/414113 [00:04<00:25, 13856.89it/s]\u001b[A\n",
      " 15%|█▌        | 63341/414113 [00:04<00:25, 13831.09it/s]\u001b[A\n",
      " 16%|█▌        | 64725/414113 [00:04<00:25, 13454.45it/s]\u001b[A\n",
      " 16%|█▌        | 66094/414113 [00:04<00:25, 13522.69it/s]\u001b[A\n",
      " 16%|█▋        | 67476/414113 [00:04<00:25, 13608.78it/s]\u001b[A\n",
      " 17%|█▋        | 68847/414113 [00:05<00:25, 13638.05it/s]\u001b[A\n",
      " 17%|█▋        | 70212/414113 [00:05<00:25, 13502.91it/s]\u001b[A\n",
      " 17%|█▋        | 71584/414113 [00:05<00:25, 13565.65it/s]\u001b[A\n",
      " 18%|█▊        | 72962/414113 [00:05<00:25, 13628.22it/s]\u001b[A\n",
      " 18%|█▊        | 74353/414113 [00:05<00:24, 13709.92it/s]\u001b[A\n",
      " 18%|█▊        | 75758/414113 [00:05<00:24, 13809.74it/s]\u001b[A\n",
      " 19%|█▊        | 77140/414113 [00:05<00:24, 13630.23it/s]\u001b[A\n",
      " 19%|█▉        | 78550/414113 [00:05<00:24, 13657.33it/s]\u001b[A\n",
      " 19%|█▉        | 79947/414113 [00:05<00:24, 13749.40it/s]\u001b[A\n",
      " 20%|█▉        | 81342/414113 [00:05<00:24, 13808.09it/s]\u001b[A\n",
      " 20%|█▉        | 82724/414113 [00:06<00:24, 13749.14it/s]\u001b[A\n",
      " 20%|██        | 84100/414113 [00:06<00:24, 13645.16it/s]\u001b[A\n",
      " 21%|██        | 85466/414113 [00:06<00:24, 13647.28it/s]\u001b[A\n",
      " 21%|██        | 86831/414113 [00:06<00:43, 7488.42it/s] \u001b[A\n",
      " 21%|██▏       | 88211/414113 [00:06<00:37, 8681.84it/s]\u001b[A\n",
      " 22%|██▏       | 89619/414113 [00:06<00:33, 9829.93it/s]\u001b[A\n",
      " 22%|██▏       | 91011/414113 [00:06<00:29, 10782.18it/s]\u001b[A\n",
      " 22%|██▏       | 92413/414113 [00:07<00:27, 11590.78it/s]\u001b[A\n",
      " 23%|██▎       | 93747/414113 [00:07<00:26, 12049.77it/s]\u001b[A\n",
      " 23%|██▎       | 95109/414113 [00:07<00:25, 12476.64it/s]\u001b[A\n",
      " 23%|██▎       | 96513/414113 [00:07<00:24, 12913.35it/s]\u001b[A\n",
      " 24%|██▎       | 97879/414113 [00:07<00:24, 13125.50it/s]\u001b[A\n",
      " 24%|██▍       | 99250/414113 [00:07<00:23, 13294.78it/s]\u001b[A\n",
      " 24%|██▍       | 100612/414113 [00:07<00:23, 13389.26it/s]\u001b[A\n",
      " 25%|██▍       | 101990/414113 [00:07<00:23, 13504.34it/s]\u001b[A\n",
      " 25%|██▍       | 103363/414113 [00:07<00:22, 13568.14it/s]\u001b[A\n",
      " 25%|██▌       | 104732/414113 [00:07<00:22, 13548.53it/s]\u001b[A\n",
      " 26%|██▌       | 106095/414113 [00:08<00:22, 13526.94it/s]\u001b[A\n",
      " 26%|██▌       | 107454/414113 [00:08<00:22, 13433.65it/s]\u001b[A\n",
      " 26%|██▋       | 108835/414113 [00:08<00:22, 13542.88it/s]\u001b[A\n",
      " 27%|██▋       | 110201/414113 [00:08<00:22, 13575.55it/s]\u001b[A\n",
      " 27%|██▋       | 111561/414113 [00:08<00:22, 13541.48it/s]\u001b[A\n",
      " 27%|██▋       | 112961/414113 [00:08<00:22, 13676.96it/s]\u001b[A\n",
      " 28%|██▊       | 114331/414113 [00:08<00:21, 13682.25it/s]\u001b[A\n",
      " 28%|██▊       | 115737/414113 [00:08<00:21, 13792.65it/s]\u001b[A\n",
      " 28%|██▊       | 117117/414113 [00:08<00:21, 13758.54it/s]\u001b[A\n",
      " 29%|██▊       | 118512/414113 [00:08<00:21, 13813.39it/s]\u001b[A\n",
      " 29%|██▉       | 119894/414113 [00:09<00:21, 13655.98it/s]\u001b[A\n",
      " 29%|██▉       | 121261/414113 [00:09<00:21, 13510.07it/s]\u001b[A\n",
      " 30%|██▉       | 122670/414113 [00:09<00:21, 13679.60it/s]\u001b[A\n",
      " 30%|██▉       | 124046/414113 [00:09<00:21, 13555.58it/s]\u001b[A\n",
      " 30%|███       | 125447/414113 [00:09<00:21, 13686.89it/s]\u001b[A\n",
      " 31%|███       | 126832/414113 [00:09<00:20, 13734.30it/s]\u001b[A\n",
      " 31%|███       | 128206/414113 [00:09<00:20, 13638.42it/s]\u001b[A\n",
      " 31%|███▏      | 129591/414113 [00:09<00:20, 13698.60it/s]\u001b[A\n",
      " 32%|███▏      | 131009/414113 [00:09<00:20, 13841.07it/s]\u001b[A\n",
      " 32%|███▏      | 132398/414113 [00:09<00:20, 13854.23it/s]\u001b[A\n",
      " 32%|███▏      | 133784/414113 [00:10<00:20, 13813.54it/s]\u001b[A\n",
      " 33%|███▎      | 135167/414113 [00:10<00:20, 13817.05it/s]\u001b[A\n",
      " 33%|███▎      | 136549/414113 [00:10<00:20, 13647.40it/s]\u001b[A\n",
      " 33%|███▎      | 137946/414113 [00:10<00:20, 13742.88it/s]\u001b[A\n",
      " 34%|███▎      | 139322/414113 [00:10<00:19, 13744.97it/s]\u001b[A\n",
      " 34%|███▍      | 140715/414113 [00:10<00:19, 13797.86it/s]\u001b[A\n",
      " 34%|███▍      | 142097/414113 [00:10<00:19, 13803.31it/s]\u001b[A\n",
      " 35%|███▍      | 143506/414113 [00:10<00:19, 13888.02it/s]\u001b[A\n",
      " 35%|███▍      | 144895/414113 [00:10<00:19, 13779.38it/s]\u001b[A\n",
      " 35%|███▌      | 146291/414113 [00:10<00:19, 13831.95it/s]\u001b[A\n",
      " 36%|███▌      | 147686/414113 [00:11<00:19, 13864.88it/s]\u001b[A\n",
      " 36%|███▌      | 149073/414113 [00:11<00:19, 13806.23it/s]\u001b[A\n",
      " 36%|███▋      | 150454/414113 [00:11<00:19, 13760.99it/s]\u001b[A\n",
      " 37%|███▋      | 151831/414113 [00:11<00:19, 13679.98it/s]\u001b[A\n",
      " 37%|███▋      | 153200/414113 [00:11<00:19, 13568.77it/s]\u001b[A\n",
      " 37%|███▋      | 154580/414113 [00:11<00:19, 13635.65it/s]\u001b[A\n",
      " 38%|███▊      | 155944/414113 [00:11<00:18, 13596.49it/s]\u001b[A\n",
      " 38%|███▊      | 157348/414113 [00:11<00:18, 13727.76it/s]\u001b[A\n",
      " 38%|███▊      | 158721/414113 [00:11<00:18, 13634.92it/s]\u001b[A\n",
      " 39%|███▊      | 160085/414113 [00:11<00:18, 13635.50it/s]\u001b[A\n",
      " 39%|███▉      | 161449/414113 [00:12<00:18, 13622.09it/s]\u001b[A\n",
      " 39%|███▉      | 162833/414113 [00:12<00:18, 13686.05it/s]\u001b[A\n",
      " 40%|███▉      | 164202/414113 [00:12<00:18, 13581.94it/s]\u001b[A\n",
      " 40%|███▉      | 165561/414113 [00:12<00:18, 13583.95it/s]\u001b[A\n",
      " 40%|████      | 166920/414113 [00:12<00:18, 13529.39it/s]\u001b[A\n",
      " 41%|████      | 168322/414113 [00:12<00:17, 13675.06it/s]\u001b[A\n",
      " 41%|████      | 169690/414113 [00:12<00:17, 13582.69it/s]\u001b[A\n",
      " 41%|████▏     | 171067/414113 [00:12<00:17, 13637.78it/s]\u001b[A\n",
      " 42%|████▏     | 172438/414113 [00:12<00:17, 13656.58it/s]\u001b[A\n",
      " 42%|████▏     | 173804/414113 [00:12<00:17, 13575.91it/s]\u001b[A\n",
      " 42%|████▏     | 175174/414113 [00:13<00:17, 13611.95it/s]\u001b[A\n",
      " 43%|████▎     | 176560/414113 [00:13<00:17, 13683.75it/s]\u001b[A\n",
      " 43%|████▎     | 177929/414113 [00:13<00:17, 13477.63it/s]\u001b[A\n",
      " 43%|████▎     | 179278/414113 [00:13<00:17, 13428.63it/s]\u001b[A\n",
      " 44%|████▎     | 180657/414113 [00:13<00:17, 13532.85it/s]\u001b[A\n",
      " 44%|████▍     | 182011/414113 [00:13<00:17, 13477.33it/s]\u001b[A\n"
     ]
    },
    {
     "name": "stderr",
     "output_type": "stream",
     "text": [
      " 44%|████▍     | 183360/414113 [00:13<00:17, 13439.68it/s]\u001b[A\n",
      " 45%|████▍     | 184723/414113 [00:13<00:16, 13495.55it/s]\u001b[A\n",
      " 45%|████▍     | 186077/414113 [00:13<00:16, 13508.35it/s]\u001b[A\n",
      " 45%|████▌     | 187452/414113 [00:13<00:16, 13578.29it/s]\u001b[A\n",
      " 46%|████▌     | 188828/414113 [00:14<00:16, 13631.88it/s]\u001b[A\n",
      " 46%|████▌     | 190192/414113 [00:14<00:16, 13507.63it/s]\u001b[A\n",
      " 46%|████▋     | 191590/414113 [00:14<00:16, 13646.51it/s]\u001b[A\n",
      " 47%|████▋     | 192955/414113 [00:14<00:16, 13603.22it/s]\u001b[A\n",
      " 47%|████▋     | 194316/414113 [00:14<00:16, 13500.23it/s]\u001b[A\n",
      " 47%|████▋     | 195667/414113 [00:14<00:16, 13473.20it/s]\u001b[A\n",
      " 48%|████▊     | 197023/414113 [00:14<00:16, 13497.19it/s]\u001b[A\n",
      " 48%|████▊     | 198381/414113 [00:14<00:15, 13520.99it/s]\u001b[A\n",
      " 48%|████▊     | 199734/414113 [00:14<00:15, 13480.15it/s]\u001b[A\n",
      " 49%|████▊     | 201083/414113 [00:15<00:15, 13446.27it/s]\u001b[A\n",
      " 49%|████▉     | 202428/414113 [00:15<00:15, 13410.14it/s]\u001b[A\n",
      " 49%|████▉     | 203770/414113 [00:15<00:15, 13249.81it/s]\u001b[A\n",
      " 50%|████▉     | 205116/414113 [00:15<00:15, 13311.64it/s]\u001b[A\n",
      " 50%|████▉     | 206448/414113 [00:15<00:15, 13273.47it/s]\u001b[A\n",
      " 50%|█████     | 207809/414113 [00:15<00:15, 13371.36it/s]\u001b[A\n",
      " 51%|█████     | 209147/414113 [00:15<00:15, 13343.97it/s]\u001b[A\n",
      " 51%|█████     | 210497/414113 [00:15<00:15, 13389.20it/s]\u001b[A\n",
      " 51%|█████     | 211880/414113 [00:15<00:14, 13520.13it/s]\u001b[A\n",
      " 52%|█████▏    | 213273/414113 [00:15<00:14, 13639.69it/s]\u001b[A\n",
      " 52%|█████▏    | 214646/414113 [00:16<00:14, 13665.40it/s]\u001b[A\n",
      " 52%|█████▏    | 216026/414113 [00:16<00:14, 13704.54it/s]\u001b[A\n",
      " 52%|█████▏    | 217398/414113 [00:16<00:14, 13708.32it/s]\u001b[A\n",
      " 53%|█████▎    | 218769/414113 [00:16<00:14, 13687.87it/s]\u001b[A\n",
      " 53%|█████▎    | 220146/414113 [00:16<00:14, 13711.94it/s]\u001b[A\n",
      " 53%|█████▎    | 221518/414113 [00:16<00:14, 13684.68it/s]\u001b[A\n",
      " 54%|█████▍    | 222907/414113 [00:16<00:13, 13743.37it/s]\u001b[A\n",
      " 54%|█████▍    | 224284/414113 [00:16<00:13, 13750.59it/s]\u001b[A\n",
      " 54%|█████▍    | 225660/414113 [00:16<00:13, 13684.30it/s]\u001b[A\n",
      " 55%|█████▍    | 227029/414113 [00:16<00:13, 13632.26it/s]\u001b[A\n",
      " 55%|█████▌    | 228414/414113 [00:17<00:13, 13693.10it/s]\u001b[A\n",
      " 55%|█████▌    | 229784/414113 [00:17<00:13, 13690.62it/s]\u001b[A\n",
      " 56%|█████▌    | 231154/414113 [00:17<00:13, 13555.50it/s]\u001b[A\n",
      " 56%|█████▌    | 232510/414113 [00:17<00:13, 13466.15it/s]\u001b[A\n",
      " 56%|█████▋    | 233857/414113 [00:17<00:13, 13414.98it/s]\u001b[A\n",
      " 57%|█████▋    | 235199/414113 [00:17<00:13, 13338.48it/s]\u001b[A\n",
      " 57%|█████▋    | 236577/414113 [00:17<00:13, 13467.39it/s]\u001b[A\n",
      " 57%|█████▋    | 237939/414113 [00:17<00:13, 13511.09it/s]\u001b[A\n",
      " 58%|█████▊    | 239321/414113 [00:17<00:12, 13600.85it/s]\u001b[A\n",
      " 58%|█████▊    | 240682/414113 [00:17<00:12, 13587.06it/s]\u001b[A\n",
      " 58%|█████▊    | 242050/414113 [00:18<00:12, 13612.73it/s]\u001b[A\n",
      " 59%|█████▉    | 243412/414113 [00:18<00:12, 13534.94it/s]\u001b[A\n",
      " 59%|█████▉    | 244772/414113 [00:18<00:12, 13552.46it/s]\u001b[A\n",
      " 59%|█████▉    | 246175/414113 [00:18<00:12, 13693.28it/s]\u001b[A\n",
      " 60%|█████▉    | 247578/414113 [00:18<00:12, 13793.37it/s]\u001b[A\n",
      " 60%|██████    | 248985/414113 [00:18<00:11, 13874.40it/s]\u001b[A\n",
      " 60%|██████    | 250373/414113 [00:18<00:11, 13835.23it/s]\u001b[A\n",
      " 61%|██████    | 251757/414113 [00:18<00:11, 13810.50it/s]\u001b[A\n",
      " 61%|██████    | 253157/414113 [00:18<00:11, 13866.07it/s]\u001b[A\n",
      " 61%|██████▏   | 254544/414113 [00:18<00:11, 13847.41it/s]\u001b[A\n",
      " 62%|██████▏   | 255961/414113 [00:19<00:11, 13941.36it/s]\u001b[A\n",
      " 62%|██████▏   | 257356/414113 [00:19<00:11, 13922.63it/s]\u001b[A\n",
      " 62%|██████▏   | 258749/414113 [00:19<00:11, 13816.93it/s]\u001b[A\n",
      " 63%|██████▎   | 260131/414113 [00:19<00:11, 13617.48it/s]\u001b[A\n",
      " 63%|██████▎   | 261494/414113 [00:19<00:23, 6446.40it/s] \u001b[A\n",
      " 63%|██████▎   | 262863/414113 [00:19<00:19, 7651.98it/s]\u001b[A\n",
      " 64%|██████▍   | 264236/414113 [00:20<00:16, 8819.11it/s]\u001b[A\n",
      " 64%|██████▍   | 265601/414113 [00:20<00:15, 9859.05it/s]\u001b[A\n",
      " 64%|██████▍   | 266989/414113 [00:20<00:13, 10803.66it/s]\u001b[A\n",
      " 65%|██████▍   | 268369/414113 [00:20<00:12, 11556.35it/s]\u001b[A\n",
      " 65%|██████▌   | 269722/414113 [00:20<00:11, 12076.16it/s]\u001b[A\n",
      " 65%|██████▌   | 271127/414113 [00:20<00:11, 12616.97it/s]\u001b[A\n",
      " 66%|██████▌   | 272481/414113 [00:20<00:11, 12874.90it/s]\u001b[A\n",
      " 66%|██████▌   | 273859/414113 [00:20<00:10, 13132.09it/s]\u001b[A\n",
      " 66%|██████▋   | 275237/414113 [00:20<00:10, 13319.85it/s]\u001b[A\n",
      " 67%|██████▋   | 276655/414113 [00:20<00:10, 13571.43it/s]\u001b[A\n",
      " 67%|██████▋   | 278037/414113 [00:21<00:10, 13548.63it/s]\u001b[A\n",
      " 67%|██████▋   | 279409/414113 [00:21<00:09, 13556.54it/s]\u001b[A\n",
      " 68%|██████▊   | 280787/414113 [00:21<00:09, 13619.88it/s]\u001b[A\n",
      " 68%|██████▊   | 282175/414113 [00:21<00:09, 13696.48it/s]\u001b[A\n",
      " 68%|██████▊   | 283580/414113 [00:21<00:09, 13801.20it/s]\u001b[A\n",
      " 69%|██████▉   | 284967/414113 [00:21<00:09, 13820.96it/s]\u001b[A\n",
      " 69%|██████▉   | 286353/414113 [00:21<00:09, 13658.07it/s]\u001b[A\n",
      " 69%|██████▉   | 287722/414113 [00:21<00:09, 13549.92it/s]\u001b[A\n",
      " 70%|██████▉   | 289099/414113 [00:21<00:09, 13614.04it/s]\u001b[A\n",
      " 70%|███████   | 290462/414113 [00:21<00:09, 13576.91it/s]\u001b[A\n",
      " 70%|███████   | 291826/414113 [00:22<00:08, 13594.94it/s]\u001b[A\n",
      " 71%|███████   | 293204/414113 [00:22<00:08, 13647.25it/s]\u001b[A\n",
      " 71%|███████   | 294570/414113 [00:22<00:08, 13572.44it/s]\u001b[A\n",
      " 71%|███████▏  | 295928/414113 [00:22<00:08, 13412.11it/s]\u001b[A\n",
      " 72%|███████▏  | 297270/414113 [00:22<00:08, 13407.61it/s]\u001b[A\n",
      " 72%|███████▏  | 298612/414113 [00:22<00:08, 13320.93it/s]\u001b[A\n",
      " 72%|███████▏  | 299989/414113 [00:22<00:08, 13451.59it/s]\u001b[A\n",
      " 73%|███████▎  | 301355/414113 [00:22<00:08, 13513.20it/s]\u001b[A\n",
      " 73%|███████▎  | 302713/414113 [00:22<00:08, 13532.46it/s]\u001b[A\n",
      " 73%|███████▎  | 304090/414113 [00:22<00:08, 13600.76it/s]\u001b[A\n",
      " 74%|███████▍  | 305451/414113 [00:23<00:08, 13551.66it/s]\u001b[A\n",
      " 74%|███████▍  | 306807/414113 [00:23<00:08, 13363.01it/s]\u001b[A\n",
      " 74%|███████▍  | 308152/414113 [00:23<00:07, 13387.62it/s]\u001b[A\n",
      " 75%|███████▍  | 309492/414113 [00:23<00:07, 13387.50it/s]\u001b[A\n",
      " 75%|███████▌  | 310832/414113 [00:23<00:07, 13335.95it/s]\u001b[A\n",
      " 75%|███████▌  | 312186/414113 [00:23<00:07, 13394.99it/s]\u001b[A\n",
      " 76%|███████▌  | 313538/414113 [00:23<00:07, 13429.70it/s]\u001b[A\n",
      " 76%|███████▌  | 314910/414113 [00:23<00:07, 13514.53it/s]\u001b[A\n",
      " 76%|███████▋  | 316299/414113 [00:23<00:07, 13625.54it/s]\u001b[A\n",
      " 77%|███████▋  | 317694/414113 [00:23<00:07, 13719.81it/s]\u001b[A\n",
      " 77%|███████▋  | 319067/414113 [00:24<00:07, 13562.73it/s]\u001b[A\n",
      " 77%|███████▋  | 320424/414113 [00:24<00:06, 13487.15it/s]\u001b[A\n",
      " 78%|███████▊  | 321814/414113 [00:24<00:06, 13607.30it/s]\u001b[A\n",
      " 78%|███████▊  | 323202/414113 [00:24<00:06, 13686.19it/s]\u001b[A\n",
      " 78%|███████▊  | 324585/414113 [00:24<00:06, 13726.22it/s]\u001b[A\n",
      " 79%|███████▊  | 325981/414113 [00:24<00:06, 13793.54it/s]\u001b[A\n",
      " 79%|███████▉  | 327361/414113 [00:24<00:06, 13507.32it/s]\u001b[A\n",
      " 79%|███████▉  | 328730/414113 [00:24<00:06, 13557.38it/s]\u001b[A\n",
      " 80%|███████▉  | 330087/414113 [00:24<00:06, 13466.49it/s]\u001b[A\n",
      " 80%|████████  | 331435/414113 [00:24<00:06, 13419.27it/s]\u001b[A\n",
      " 80%|████████  | 332778/414113 [00:25<00:06, 13364.84it/s]\u001b[A\n",
      " 81%|████████  | 334165/414113 [00:25<00:05, 13513.47it/s]\u001b[A\n",
      " 81%|████████  | 335517/414113 [00:25<00:05, 13381.26it/s]\u001b[A\n",
      " 81%|████████▏ | 336856/414113 [00:25<00:05, 13346.98it/s]\u001b[A\n",
      " 82%|████████▏ | 338192/414113 [00:25<00:05, 13182.55it/s]\u001b[A\n",
      " 82%|████████▏ | 339526/414113 [00:25<00:05, 13227.51it/s]\u001b[A\n",
      " 82%|████████▏ | 340888/414113 [00:25<00:05, 13341.67it/s]\u001b[A\n",
      " 83%|████████▎ | 342237/414113 [00:25<00:05, 13385.11it/s]\u001b[A\n",
      " 83%|████████▎ | 343576/414113 [00:25<00:05, 13289.63it/s]\u001b[A\n",
      " 83%|████████▎ | 344906/414113 [00:25<00:05, 13284.52it/s]\u001b[A\n",
      " 84%|████████▎ | 346283/414113 [00:26<00:05, 13428.61it/s]\u001b[A\n",
      " 84%|████████▍ | 347627/414113 [00:26<00:04, 13398.32it/s]\u001b[A\n",
      " 84%|████████▍ | 348968/414113 [00:26<00:04, 13376.03it/s]\u001b[A\n",
      " 85%|████████▍ | 350315/414113 [00:26<00:04, 13403.57it/s]\u001b[A\n",
      " 85%|████████▍ | 351656/414113 [00:26<00:04, 13336.18it/s]\u001b[A\n",
      " 85%|████████▌ | 352990/414113 [00:26<00:04, 13276.02it/s]\u001b[A\n",
      " 86%|████████▌ | 354333/414113 [00:26<00:04, 13320.81it/s]\u001b[A\n",
      " 86%|████████▌ | 355703/414113 [00:26<00:04, 13431.50it/s]\u001b[A\n",
      " 86%|████████▌ | 357047/414113 [00:26<00:04, 13349.00it/s]\u001b[A\n",
      " 87%|████████▋ | 358405/414113 [00:26<00:04, 13417.01it/s]\u001b[A\n",
      " 87%|████████▋ | 359752/414113 [00:27<00:04, 13431.47it/s]\u001b[A\n",
      " 87%|████████▋ | 361096/414113 [00:27<00:03, 13353.20it/s]\u001b[A\n",
      " 88%|████████▊ | 362456/414113 [00:27<00:03, 13425.30it/s]\u001b[A\n"
     ]
    },
    {
     "name": "stderr",
     "output_type": "stream",
     "text": [
      " 88%|████████▊ | 363799/414113 [00:27<00:03, 13392.17it/s]\u001b[A\n",
      " 88%|████████▊ | 365139/414113 [00:27<00:03, 13337.95it/s]\u001b[A\n",
      " 89%|████████▊ | 366541/414113 [00:27<00:03, 13538.55it/s]\u001b[A\n",
      " 89%|████████▉ | 367896/414113 [00:27<00:03, 13508.68it/s]\u001b[A\n",
      " 89%|████████▉ | 369248/414113 [00:27<00:03, 13392.85it/s]\u001b[A\n",
      " 89%|████████▉ | 370597/414113 [00:27<00:03, 13419.64it/s]\u001b[A\n",
      " 90%|████████▉ | 371940/414113 [00:27<00:03, 13391.89it/s]\u001b[A\n",
      " 90%|█████████ | 373287/414113 [00:28<00:03, 13413.78it/s]\u001b[A\n",
      " 90%|█████████ | 374629/414113 [00:28<00:02, 13398.74it/s]\u001b[A\n",
      " 91%|█████████ | 375969/414113 [00:28<00:02, 13351.33it/s]\u001b[A\n",
      " 91%|█████████ | 377305/414113 [00:28<00:02, 12995.60it/s]\u001b[A\n",
      " 91%|█████████▏| 378675/414113 [00:28<00:02, 13200.48it/s]\u001b[A\n",
      " 92%|█████████▏| 380077/414113 [00:28<00:02, 13440.98it/s]\u001b[A\n",
      " 92%|█████████▏| 381449/414113 [00:28<00:02, 13522.71it/s]\u001b[A\n",
      " 92%|█████████▏| 382872/414113 [00:28<00:02, 13732.80it/s]\u001b[A\n",
      " 93%|█████████▎| 384247/414113 [00:28<00:02, 13664.05it/s]\u001b[A\n",
      " 93%|█████████▎| 385615/414113 [00:29<00:02, 13601.96it/s]\u001b[A\n",
      " 93%|█████████▎| 386987/414113 [00:29<00:01, 13635.96it/s]\u001b[A\n",
      " 94%|█████████▍| 388352/414113 [00:29<00:01, 13627.63it/s]\u001b[A\n",
      " 94%|█████████▍| 389720/414113 [00:29<00:01, 13641.64it/s]\u001b[A\n",
      " 94%|█████████▍| 391085/414113 [00:29<00:01, 13579.85it/s]\u001b[A\n",
      " 95%|█████████▍| 392444/414113 [00:29<00:01, 13520.59it/s]\u001b[A\n",
      " 95%|█████████▌| 393797/414113 [00:29<00:01, 13219.68it/s]\u001b[A\n",
      " 95%|█████████▌| 395138/414113 [00:29<00:01, 13274.15it/s]\u001b[A\n",
      " 96%|█████████▌| 396521/414113 [00:29<00:01, 13437.50it/s]\u001b[A\n",
      " 96%|█████████▌| 397875/414113 [00:29<00:01, 13467.13it/s]\u001b[A\n",
      " 96%|█████████▋| 399239/414113 [00:30<00:01, 13516.64it/s]\u001b[A\n",
      " 97%|█████████▋| 400592/414113 [00:30<00:01, 13433.83it/s]\u001b[A\n",
      " 97%|█████████▋| 401936/414113 [00:30<00:00, 13435.03it/s]\u001b[A\n",
      " 97%|█████████▋| 403283/414113 [00:30<00:00, 13443.52it/s]\u001b[A\n",
      " 98%|█████████▊| 404642/414113 [00:30<00:00, 13487.16it/s]\u001b[A\n",
      " 98%|█████████▊| 405991/414113 [00:30<00:00, 13476.10it/s]\u001b[A\n",
      " 98%|█████████▊| 407353/414113 [00:30<00:00, 13517.72it/s]\u001b[A\n",
      " 99%|█████████▊| 408705/414113 [00:30<00:00, 13378.34it/s]\u001b[A\n",
      " 99%|█████████▉| 410044/414113 [00:30<00:00, 13362.13it/s]\u001b[A\n",
      " 99%|█████████▉| 411437/414113 [00:30<00:00, 13531.18it/s]\u001b[A\n",
      "100%|██████████| 414113/414113 [00:31<00:00, 13308.54it/s]\u001b[A\n"
     ]
    }
   ],
   "source": [
    "# Obtain the data loader (from file). Note that it runs much faster than before!\n",
    "data_loader = get_loader(transform=transform_train,\n",
    "                         mode='train',\n",
    "                         batch_size=batch_size,\n",
    "                         vocab_from_file=True)"
   ]
  },
  {
   "cell_type": "markdown",
   "metadata": {},
   "source": [
    "In the next section, you will learn how to use the data loader to obtain batches of training data."
   ]
  },
  {
   "cell_type": "markdown",
   "metadata": {},
   "source": [
    "<a id='step2'></a>\n",
    "## Step 2: Use the Data Loader to Obtain Batches\n",
    "\n",
    "The captions in the dataset vary greatly in length.  You can see this by examining `data_loader.dataset.caption_lengths`, a Python list with one entry for each training caption (where the value stores the length of the corresponding caption).  \n",
    "\n",
    "In the code cell below, we use this list to print the total number of captions in the training data with each length.  As you will see below, the majority of captions have length 10.  Likewise, very short and very long captions are quite rare.  "
   ]
  },
  {
   "cell_type": "code",
   "execution_count": 4,
   "metadata": {},
   "outputs": [
    {
     "name": "stdout",
     "output_type": "stream",
     "text": [
      "value: 10 --- count: 86302\n",
      "value: 11 --- count: 79971\n",
      "value:  9 --- count: 71920\n",
      "value: 12 --- count: 57653\n",
      "value: 13 --- count: 37668\n",
      "value: 14 --- count: 22342\n",
      "value:  8 --- count: 20742\n",
      "value: 15 --- count: 12839\n",
      "value: 16 --- count:  7736\n",
      "value: 17 --- count:  4845\n",
      "value: 18 --- count:  3101\n",
      "value: 19 --- count:  2017\n",
      "value:  7 --- count:  1594\n",
      "value: 20 --- count:  1453\n",
      "value: 21 --- count:   997\n",
      "value: 22 --- count:   683\n",
      "value: 23 --- count:   534\n",
      "value: 24 --- count:   384\n",
      "value: 25 --- count:   277\n",
      "value: 26 --- count:   214\n",
      "value: 27 --- count:   160\n",
      "value: 28 --- count:   114\n",
      "value: 29 --- count:    87\n",
      "value: 30 --- count:    58\n",
      "value: 31 --- count:    49\n",
      "value: 32 --- count:    44\n",
      "value: 34 --- count:    40\n",
      "value: 37 --- count:    32\n",
      "value: 35 --- count:    31\n",
      "value: 33 --- count:    30\n",
      "value: 36 --- count:    26\n",
      "value: 38 --- count:    18\n",
      "value: 39 --- count:    18\n",
      "value: 43 --- count:    16\n",
      "value: 44 --- count:    16\n",
      "value: 48 --- count:    12\n",
      "value: 45 --- count:    11\n",
      "value: 42 --- count:    10\n",
      "value: 40 --- count:     9\n",
      "value: 49 --- count:     9\n",
      "value: 46 --- count:     9\n",
      "value: 47 --- count:     7\n",
      "value: 50 --- count:     6\n",
      "value: 51 --- count:     6\n",
      "value: 41 --- count:     6\n",
      "value: 52 --- count:     5\n",
      "value: 54 --- count:     3\n",
      "value: 56 --- count:     2\n",
      "value:  6 --- count:     2\n",
      "value: 53 --- count:     2\n",
      "value: 55 --- count:     2\n",
      "value: 57 --- count:     1\n"
     ]
    }
   ],
   "source": [
    "from collections import Counter\n",
    "\n",
    "# Tally the total number of training captions with each length.\n",
    "counter = Counter(data_loader.dataset.caption_lengths)\n",
    "lengths = sorted(counter.items(), key=lambda pair: pair[1], reverse=True)\n",
    "for value, count in lengths:\n",
    "    print('value: %2d --- count: %5d' % (value, count))"
   ]
  },
  {
   "cell_type": "markdown",
   "metadata": {},
   "source": [
    "To generate batches of training data, we begin by first sampling a caption length (where the probability that any length is drawn is proportional to the number of captions with that length in the dataset).  Then, we retrieve a batch of size `batch_size` of image-caption pairs, where all captions have the sampled length.  This approach for assembling batches matches the procedure in [this paper](https://arxiv.org/pdf/1502.03044.pdf) and has been shown to be computationally efficient without degrading performance.\n",
    "\n",
    "Run the code cell below to generate a batch.  The `get_train_indices` method in the `CoCoDataset` class first samples a caption length, and then samples `batch_size` indices corresponding to training data points with captions of that length.  These indices are stored below in `indices`.\n",
    "\n",
    "These indices are supplied to the data loader, which then is used to retrieve the corresponding data points.  The pre-processed images and captions in the batch are stored in `images` and `captions`."
   ]
  },
  {
   "cell_type": "code",
   "execution_count": 6,
   "metadata": {
    "scrolled": false
   },
   "outputs": [
    {
     "name": "stdout",
     "output_type": "stream",
     "text": [
      "sampled indices: [132609, 49641, 323877, 54162, 13200, 395428, 219033, 413462, 74912, 207758]\n",
      "images.shape: torch.Size([10, 3, 224, 224])\n",
      "captions.shape: torch.Size([10, 15])\n"
     ]
    }
   ],
   "source": [
    "import numpy as np\n",
    "import torch.utils.data as data\n",
    "\n",
    "# Randomly sample a caption length, and sample indices with that length.\n",
    "indices = data_loader.dataset.get_train_indices()\n",
    "print('sampled indices:', indices)\n",
    "\n",
    "# Create and assign a batch sampler to retrieve a batch with the sampled indices.\n",
    "new_sampler = data.sampler.SubsetRandomSampler(indices=indices)\n",
    "data_loader.batch_sampler.sampler = new_sampler\n",
    "    \n",
    "# Obtain the batch.\n",
    "images, captions = next(iter(data_loader))\n",
    "    \n",
    "print('images.shape:', images.shape)\n",
    "print('captions.shape:', captions.shape)\n",
    "\n",
    "# (Optional) Uncomment the lines of code below to print the pre-processed images and captions.\n",
    "# print('images:', images)\n",
    "# print('captions:', captions)"
   ]
  },
  {
   "cell_type": "markdown",
   "metadata": {},
   "source": [
    "Each time you run the code cell above, a different caption length is sampled, and a different batch of training data is returned.  Run the code cell multiple times to check this out!\n",
    "\n",
    "You will train your model in the next notebook in this sequence (**2_Training.ipynb**). This code for generating training batches will be provided to you.\n",
    "\n",
    "> Before moving to the next notebook in the sequence (**2_Training.ipynb**), you are strongly encouraged to take the time to become very familiar with the code in  **data_loader.py** and **vocabulary.py**.  **Step 1** and **Step 2** of this notebook are designed to help facilitate a basic introduction and guide your understanding.  However, our description is not exhaustive, and it is up to you (as part of the project) to learn how to best utilize these files to complete the project.  __You should NOT amend any of the code in either *data_loader.py* or *vocabulary.py*.__\n",
    "\n",
    "In the next steps, we focus on learning how to specify a CNN-RNN architecture in PyTorch, towards the goal of image captioning."
   ]
  },
  {
   "cell_type": "markdown",
   "metadata": {},
   "source": [
    "<a id='step3'></a>\n",
    "## Step 3: Experiment with the CNN Encoder\n",
    "\n",
    "Run the code cell below to import `EncoderCNN` and `DecoderRNN` from **model.py**. "
   ]
  },
  {
   "cell_type": "code",
   "execution_count": 28,
   "metadata": {},
   "outputs": [
    {
     "name": "stdout",
     "output_type": "stream",
     "text": [
      "The autoreload extension is already loaded. To reload it, use:\n",
      "  %reload_ext autoreload\n"
     ]
    }
   ],
   "source": [
    "# Watch for any changes in model.py, and re-load it automatically.\n",
    "%load_ext autoreload\n",
    "%autoreload 2\n",
    "\n",
    "# Import EncoderCNN and DecoderRNN. \n",
    "from model import EncoderCNN, DecoderRNN"
   ]
  },
  {
   "cell_type": "markdown",
   "metadata": {},
   "source": [
    "In the next code cell we define a `device` that you will use move PyTorch tensors to GPU (if CUDA is available).  Run this code cell before continuing."
   ]
  },
  {
   "cell_type": "code",
   "execution_count": 29,
   "metadata": {},
   "outputs": [],
   "source": [
    "device = torch.device(\"cuda\" if torch.cuda.is_available() else \"cpu\")"
   ]
  },
  {
   "cell_type": "markdown",
   "metadata": {},
   "source": [
    "Run the code cell below to instantiate the CNN encoder in `encoder`.  \n",
    "\n",
    "The pre-processed images from the batch in **Step 2** of this notebook are then passed through the encoder, and the output is stored in `features`."
   ]
  },
  {
   "cell_type": "code",
   "execution_count": 30,
   "metadata": {},
   "outputs": [
    {
     "name": "stdout",
     "output_type": "stream",
     "text": [
      "type(features): <class 'torch.Tensor'>\n",
      "features.shape: torch.Size([10, 256])\n"
     ]
    }
   ],
   "source": [
    "# Specify the dimensionality of the image embedding.\n",
    "embed_size = 256\n",
    "\n",
    "#-#-#-# Do NOT modify the code below this line. #-#-#-#\n",
    "\n",
    "# Initialize the encoder. (Optional: Add additional arguments if necessary.)\n",
    "encoder = EncoderCNN(embed_size)\n",
    "\n",
    "# Move the encoder to GPU if CUDA is available.\n",
    "encoder.to(device)\n",
    "    \n",
    "# Move last batch of images (from Step 2) to GPU if CUDA is available.   \n",
    "images = images.to(device)\n",
    "\n",
    "# Pass the images through the encoder.\n",
    "features = encoder(images)\n",
    "\n",
    "print('type(features):', type(features))\n",
    "print('features.shape:', features.shape)\n",
    "\n",
    "# Check that your encoder satisfies some requirements of the project! :D\n",
    "assert type(features)==torch.Tensor, \"Encoder output needs to be a PyTorch Tensor.\" \n",
    "assert (features.shape[0]==batch_size) & (features.shape[1]==embed_size), \"The shape of the encoder output is incorrect.\""
   ]
  },
  {
   "cell_type": "markdown",
   "metadata": {},
   "source": [
    "The encoder that we provide to you uses the pre-trained ResNet-50 architecture (with the final fully-connected layer removed) to extract features from a batch of pre-processed images.  The output is then flattened to a vector, before being passed through a `Linear` layer to transform the feature vector to have the same size as the word embedding.\n",
    "\n",
    "![A diagram showing the first part of an image captioning model. An input image is transformed into an image tensor (224x224x3), which is then passed through a CNN to produce an image feature vector. This vector is further processed by a linear layer, embedding it into a feature vector with a specified embed size.](images/encoder.png)\n",
    "\n",
    "You are welcome (and encouraged) to amend the encoder in **model.py**, to experiment with other architectures.  In particular, consider using a [different pre-trained model architecture](http://pytorch.org/docs/master/torchvision/models.html).  You may also like to [add batch normalization](http://pytorch.org/docs/master/nn.html#normalization-layers).  \n",
    "\n",
    "> You are **not** required to change anything about the encoder.\n",
    "\n",
    "For this project, you **must** incorporate a pre-trained CNN into your encoder.  Your `EncoderCNN` class must take `embed_size` as an input argument, which will also correspond to the dimensionality of the input to the RNN decoder that you will implement in Step 4.  When you train your model in the next notebook in this sequence (**2_Training.ipynb**), you are welcome to tweak the value of `embed_size`.\n",
    "\n",
    "If you decide to modify the `EncoderCNN` class, save **model.py** and re-execute the code cell above.  If the code cell returns an assertion error, then please follow the instructions to modify your code before proceeding.  The assert statements ensure that `features` is a PyTorch tensor with shape `[batch_size, embed_size]`."
   ]
  },
  {
   "cell_type": "markdown",
   "metadata": {},
   "source": [
    "<a id='step4'></a>\n",
    "## Step 4: Implement the RNN Decoder\n",
    "\n",
    "Before executing the next code cell, you must write `__init__` and `forward` methods in the `DecoderRNN` class in **model.py**.  (Do **not** write the `sample` method yet - you will work with this method when you reach **3_Inference.ipynb**.)\n",
    "\n",
    "> The `__init__` and `forward` methods in the `DecoderRNN` class are the only things that you **need** to modify as part of this notebook.  You will write more implementations in the notebooks that appear later in the sequence.\n",
    "\n",
    "Your decoder will be an instance of the `DecoderRNN` class and must accept as input:\n",
    "- the PyTorch tensor `features` containing the embedded image features (outputted in Step 3, when the last batch of images from Step 2 was passed through `encoder`), along with\n",
    "- a PyTorch tensor corresponding to the last batch of captions (`captions`) from Step 2.\n",
    "\n",
    "Note that the way we have written the data loader should simplify your code a bit.  In particular, every training batch will contain pre-processed captions where all have the same length (`captions.shape[1]`), so **you do not need to worry about padding**.  \n",
    "> While you are encouraged to implement the decoder described in [this paper](https://arxiv.org/pdf/1411.4555.pdf), you are welcome to implement any architecture of your choosing, as long as it uses at least one RNN layer, with hidden dimension `hidden_size`.  \n",
    "\n",
    "Although you will test the decoder using the last batch that is currently stored in the notebook, your decoder should be written to accept an arbitrary batch (of embedded image features and pre-processed captions [where all captions have the same length]) as input.  \n",
    "\n",
    "![A diagram illustrating the structure of the RNN decoder for an image captioning model. The embedded image feature vector is passed into an LSTM network, which sequentially predicts words from a vocabulary. Each LSTM output is processed through a linear layer to generate scores for each word in the vocabulary, predicting the next word in the caption sequence. The example shows the output as: 'A man holding a slice of pizza.'](images/decoder.png)\n",
    "\n",
    "In the code cell below, `outputs` should be a PyTorch tensor with size `[batch_size, captions.shape[1], vocab_size]`. Your output should be designed such that `outputs[i,j,k]` contains the model's predicted score, indicating how likely the `j`-th token in the `i`-th caption in the batch is the `k`-th token in the vocabulary.  In the next notebook of the sequence (**2_Training.ipynb**), we provide code to supply these scores to the [`torch.nn.CrossEntropyLoss`](http://pytorch.org/docs/master/nn.html#torch.nn.CrossEntropyLoss) optimizer in PyTorch."
   ]
  },
  {
   "cell_type": "code",
   "execution_count": 31,
   "metadata": {},
   "outputs": [
    {
     "name": "stdout",
     "output_type": "stream",
     "text": [
      "type(outputs): <class 'torch.Tensor'>\n",
      "outputs.shape: torch.Size([10, 15, 8852])\n"
     ]
    }
   ],
   "source": [
    "# Before executing the next code cell, you must write __init__ and forward methods in the DecoderRNN class in model.py.\n",
    "\n",
    "# Specify the number of features in the hidden state of the RNN decoder.\n",
    "hidden_size = 512\n",
    "\n",
    "#-#-#-# Do NOT modify the code below this line. #-#-#-#\n",
    "\n",
    "# Store the size of the vocabulary.\n",
    "vocab_size = len(data_loader.dataset.vocab)\n",
    "\n",
    "# Initialize the decoder.\n",
    "decoder = DecoderRNN(embed_size, hidden_size, vocab_size)\n",
    "\n",
    "# Move the decoder to GPU if CUDA is available.\n",
    "decoder.to(device)\n",
    "    \n",
    "# Move last batch of captions (from Step 1) to GPU if CUDA is available \n",
    "captions = captions.to(device)\n",
    "\n",
    "# Pass the encoder output and captions through the decoder.\n",
    "outputs = decoder(features, captions)\n",
    "\n",
    "print('type(outputs):', type(outputs))\n",
    "print('outputs.shape:', outputs.shape)\n",
    "\n",
    "# Check that your decoder satisfies some requirements of the project! :D\n",
    "assert type(outputs)==torch.Tensor, \"Decoder output needs to be a PyTorch Tensor.\"\n",
    "assert (outputs.shape[0]==batch_size) & (outputs.shape[1]==captions.shape[1]) & (outputs.shape[2]==vocab_size), \"The shape of the decoder output is incorrect.\""
   ]
  },
  {
   "cell_type": "markdown",
   "metadata": {},
   "source": [
    "When you train your model in the next notebook in this sequence (**2_Training.ipynb**), you are welcome to tweak the value of `hidden_size`."
   ]
  }
 ],
 "metadata": {
  "anaconda-cloud": {},
  "kernelspec": {
   "display_name": "Python 3 (ipykernel)",
   "language": "python",
   "name": "python3"
  },
  "language_info": {
   "codemirror_mode": {
    "name": "ipython",
    "version": 3
   },
   "file_extension": ".py",
   "mimetype": "text/x-python",
   "name": "python",
   "nbconvert_exporter": "python",
   "pygments_lexer": "ipython3",
   "version": "3.10.11"
  }
 },
 "nbformat": 4,
 "nbformat_minor": 2
}
